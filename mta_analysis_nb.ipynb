{
 "cells": [
  {
   "cell_type": "markdown",
   "metadata": {},
   "source": [
    "# MTA Subway Ridership Data Analysis"
   ]
  },
  {
   "cell_type": "markdown",
   "metadata": {},
   "source": [
    "<center>\n",
    "<img src=\"https://upload.wikimedia.org/wikipedia/commons/thumb/7/7a/MTA_New_York_City_Subway_logo.svg/2560px-MTA_New_York_City_Subway_logo.svg.png\">"
   ]
  },
  {
   "cell_type": "markdown",
   "metadata": {},
   "source": [
    "### Understaning the dataset"
   ]
  },
  {
   "cell_type": "markdown",
   "metadata": {},
   "source": [
    "This data set is provided by the Metropolitan Transportation Authority via the [NYC Open Data](https://data.ny.gov/) platform. The ridership metrics provided may differ slightly, but are within 1% of\n",
    "ridership figures provided at public MTA board meetings. Data is released weekly. The latest version of the datset can be found [here](https://data.ny.gov/Transportation/MTA-Subway-Hourly-Ridership-Beginning-February-202/wujg-7c2s).\n",
    "\n",
    "Below you can find a data dictionary for the dataset:\n",
    "\n",
    "| Column Name | Data Type | Purpose |\n",
    "|---------|--------|--------|\n",
    "|transit_timestamp| Plain Text|Timestamp payment took place in local time. All transactions here are rounded down to the nearest hour. For example, a swipe that took place at 1:37pm will be reported as having taken place at 1pm.|\n",
    "|station_complex_id| Plain Text| A unique identifier for station complexes|\n",
    "|station_complex| Plain Text| The subway complex where an entry swipe or tap took place. Large subway complexes, such as Times Square and Fulton Center, may contain multiple subway lines.|\n",
    "|routes| Plain Text| Refers to the different subway routes that stop at a particular subway station.|\n",
    "|borough| Plain Text| Represents one of the boroughs of New York City serviced by the subway system (Bronx, Brooklyn, Manhattan, Queens).|\n",
    "|payment_method| Plain Text| Specifies whether the payment method used to enter was from OMNY or MetroCard. The value all is temporarily being used while this data is being made available.|\n",
    "|ridership| int64| Total number of riders that entered a subway complex via OMNY or MetroCard at the specific hour.|\n",
    "|transfers| int64| Number of individuals who entered a subway complex via a free bus-to-subway, or free out-of-network transfer. This represents a subset of total ridership, meaning that these transfers are already included in the preceding ridership column. Transfers that take place within a subway complex (e.g., individuals transferring from the 2 to the 4 train within Atlantic Avenue) are not captured here.|\n",
    "|latitude| float64| Latitude for specified subway complex|\n",
    "|longitude| float64| Longitude for the specified subway complex|\n",
    "|Georeference| Point| Open Data platform-generated geocoding information from supplied address components. Point-type location is the centroid of the address components provided and does not reflect a specific address if the street address component is not provided. Point-type location is supplied in \"POINT (<geocoded longitude> <geocoded latitude>)\" format.|\n",
    "\n",
    "The most necessary columns for our analysis are the following:\n",
    "- transit_timestamp (to identify the time of day)\n",
    "- station_complex (to identify the station)\n",
    "- ridership (to identify the number of people entering the station at a given time)\n",
    "- latitude / longitude / Georeference (to identify the location of the station)"
   ]
  },
  {
   "cell_type": "markdown",
   "metadata": {},
   "source": [
    "### Potential Goals of Analysis"
   ]
  },
  {
   "cell_type": "markdown",
   "metadata": {},
   "source": [
    "* What is the best time to schedule maintenance?\n",
    "    - Which factors are most important to ridership (time of day, day of week, etc.)?\n",
    "* Which part of the city has the most riders?\n",
    "    - Which Borough?\n",
    "* Which station sees the most riders?\n",
    "* Does Subway usage have seasonal trends?\n",
    "* Is there potential to build a model to predict ridership?\n",
    "\n",
    "Overall by answering these questions and gaining a further understanding of ridership, it should highlight that the MTA could use data to improve crowd management, service performance and maintenance scheduling. "
   ]
  },
  {
   "cell_type": "markdown",
   "metadata": {
    "tags": []
   },
   "source": [
    "### Outline\n",
    "1. [Importing Libraries](###1.-importing-the-required-libraries)\n",
    "2. [Data Preperation](###-2.-Preparing-the-data)\n",
    "3. [Exploratory Data Analysis](#3.-Exploratory-Data-Analysis)\n",
    "4. [Geographical Visualization](#4.-Geographical-Visualization)\n",
    "5. [Predicting Ridership](#5.-Predicting-Ridership)\n",
    "6. [Conclusion](###6.-Conclusion)"
   ]
  },
  {
   "cell_type": "markdown",
   "metadata": {},
   "source": [
    "_____"
   ]
  },
  {
   "cell_type": "markdown",
   "metadata": {},
   "source": [
    "### 1. Importing the required libraries"
   ]
  },
  {
   "cell_type": "code",
   "execution_count": 1,
   "metadata": {},
   "outputs": [],
   "source": [
    "import pandas as pd # for data manipulation and analysis\n",
    "import numpy as np\n",
    "\n",
    "import seaborn as sns # for data visualization\n",
    "import matplotlib.pyplot as plt\n",
    "import plotly.express as px\n",
    "\n",
    "import dash # for building interactive visualizations\n",
    "from dash import dcc, html, Input, Output\n",
    "\n",
    "import geopandas as gpd # for geographic data manipulation\n",
    "from shapely.geometry import Point, Polygon\n",
    "\n",
    "from sklearn.model_selection import train_test_split # for machine learning\n",
    "from sklearn.ensemble import RandomForestRegressor\n",
    "from sklearn.metrics import mean_absolute_error, mean_squared_error, r2_score"
   ]
  },
  {
   "cell_type": "markdown",
   "metadata": {},
   "source": [
    "________"
   ]
  },
  {
   "cell_type": "markdown",
   "metadata": {},
   "source": [
    "### 2. Preparing the data"
   ]
  },
  {
   "cell_type": "markdown",
   "metadata": {},
   "source": [
    "#### Read CSV to Dataframe"
   ]
  },
  {
   "cell_type": "code",
   "execution_count": 2,
   "metadata": {},
   "outputs": [],
   "source": [
    "# read csv file to pd dataframe\n",
    "df = pd.read_csv('MTA_Subway_Hourly_Ridership__Beginning_February_2022.csv')"
   ]
  },
  {
   "cell_type": "markdown",
   "metadata": {},
   "source": [
    "View first 5 rows of the dataset to confirm the data is read properly"
   ]
  },
  {
   "cell_type": "code",
   "execution_count": 3,
   "metadata": {},
   "outputs": [
    {
     "data": {
      "text/html": [
       "<div>\n",
       "<style scoped>\n",
       "    .dataframe tbody tr th:only-of-type {\n",
       "        vertical-align: middle;\n",
       "    }\n",
       "\n",
       "    .dataframe tbody tr th {\n",
       "        vertical-align: top;\n",
       "    }\n",
       "\n",
       "    .dataframe thead th {\n",
       "        text-align: right;\n",
       "    }\n",
       "</style>\n",
       "<table border=\"1\" class=\"dataframe\">\n",
       "  <thead>\n",
       "    <tr style=\"text-align: right;\">\n",
       "      <th></th>\n",
       "      <th>transit_timestamp</th>\n",
       "      <th>station_complex_id</th>\n",
       "      <th>station_complex</th>\n",
       "      <th>borough</th>\n",
       "      <th>routes</th>\n",
       "      <th>payment_method</th>\n",
       "      <th>ridership</th>\n",
       "      <th>transfers</th>\n",
       "      <th>latitude</th>\n",
       "      <th>longitude</th>\n",
       "      <th>Georeference</th>\n",
       "    </tr>\n",
       "  </thead>\n",
       "  <tbody>\n",
       "    <tr>\n",
       "      <th>0</th>\n",
       "      <td>06/05/2022 04:00:00 AM</td>\n",
       "      <td>R639</td>\n",
       "      <td>Church Av (2,5)</td>\n",
       "      <td>BK</td>\n",
       "      <td>2,5</td>\n",
       "      <td>all</td>\n",
       "      <td>21</td>\n",
       "      <td>0</td>\n",
       "      <td>40.650845</td>\n",
       "      <td>-73.94958</td>\n",
       "      <td>POINT (-73.94958 40.650845)</td>\n",
       "    </tr>\n",
       "    <tr>\n",
       "      <th>1</th>\n",
       "      <td>06/21/2022 03:00:00 AM</td>\n",
       "      <td>R639</td>\n",
       "      <td>Church Av (2,5)</td>\n",
       "      <td>BK</td>\n",
       "      <td>2,5</td>\n",
       "      <td>all</td>\n",
       "      <td>24</td>\n",
       "      <td>0</td>\n",
       "      <td>40.650845</td>\n",
       "      <td>-73.94958</td>\n",
       "      <td>POINT (-73.94958 40.650845)</td>\n",
       "    </tr>\n",
       "    <tr>\n",
       "      <th>2</th>\n",
       "      <td>07/05/2022 03:00:00 AM</td>\n",
       "      <td>R639</td>\n",
       "      <td>Church Av (2,5)</td>\n",
       "      <td>BK</td>\n",
       "      <td>2,5</td>\n",
       "      <td>all</td>\n",
       "      <td>23</td>\n",
       "      <td>0</td>\n",
       "      <td>40.650845</td>\n",
       "      <td>-73.94958</td>\n",
       "      <td>POINT (-73.94958 40.650845)</td>\n",
       "    </tr>\n",
       "    <tr>\n",
       "      <th>3</th>\n",
       "      <td>07/07/2022 03:00:00 AM</td>\n",
       "      <td>R639</td>\n",
       "      <td>Church Av (2,5)</td>\n",
       "      <td>BK</td>\n",
       "      <td>2,5</td>\n",
       "      <td>all</td>\n",
       "      <td>18</td>\n",
       "      <td>0</td>\n",
       "      <td>40.650845</td>\n",
       "      <td>-73.94958</td>\n",
       "      <td>POINT (-73.94958 40.650845)</td>\n",
       "    </tr>\n",
       "    <tr>\n",
       "      <th>4</th>\n",
       "      <td>07/23/2022 01:00:00 AM</td>\n",
       "      <td>R639</td>\n",
       "      <td>Church Av (2,5)</td>\n",
       "      <td>BK</td>\n",
       "      <td>2,5</td>\n",
       "      <td>all</td>\n",
       "      <td>12</td>\n",
       "      <td>0</td>\n",
       "      <td>40.650845</td>\n",
       "      <td>-73.94958</td>\n",
       "      <td>POINT (-73.94958 40.650845)</td>\n",
       "    </tr>\n",
       "  </tbody>\n",
       "</table>\n",
       "</div>"
      ],
      "text/plain": [
       "        transit_timestamp station_complex_id  station_complex borough routes  \\\n",
       "0  06/05/2022 04:00:00 AM               R639  Church Av (2,5)      BK    2,5   \n",
       "1  06/21/2022 03:00:00 AM               R639  Church Av (2,5)      BK    2,5   \n",
       "2  07/05/2022 03:00:00 AM               R639  Church Av (2,5)      BK    2,5   \n",
       "3  07/07/2022 03:00:00 AM               R639  Church Av (2,5)      BK    2,5   \n",
       "4  07/23/2022 01:00:00 AM               R639  Church Av (2,5)      BK    2,5   \n",
       "\n",
       "  payment_method  ridership  transfers   latitude  longitude  \\\n",
       "0            all         21          0  40.650845  -73.94958   \n",
       "1            all         24          0  40.650845  -73.94958   \n",
       "2            all         23          0  40.650845  -73.94958   \n",
       "3            all         18          0  40.650845  -73.94958   \n",
       "4            all         12          0  40.650845  -73.94958   \n",
       "\n",
       "                  Georeference  \n",
       "0  POINT (-73.94958 40.650845)  \n",
       "1  POINT (-73.94958 40.650845)  \n",
       "2  POINT (-73.94958 40.650845)  \n",
       "3  POINT (-73.94958 40.650845)  \n",
       "4  POINT (-73.94958 40.650845)  "
      ]
     },
     "execution_count": 3,
     "metadata": {},
     "output_type": "execute_result"
    }
   ],
   "source": [
    "df.head()"
   ]
  },
  {
   "cell_type": "code",
   "execution_count": 4,
   "metadata": {},
   "outputs": [
    {
     "data": {
      "text/plain": [
       "transit_timestamp      object\n",
       "station_complex_id     object\n",
       "station_complex        object\n",
       "borough                object\n",
       "routes                 object\n",
       "payment_method         object\n",
       "ridership               int64\n",
       "transfers               int64\n",
       "latitude              float64\n",
       "longitude             float64\n",
       "Georeference           object\n",
       "dtype: object"
      ]
     },
     "execution_count": 4,
     "metadata": {},
     "output_type": "execute_result"
    }
   ],
   "source": [
    "# list the data types of the dataframe\n",
    "df.dtypes"
   ]
  },
  {
   "cell_type": "markdown",
   "metadata": {},
   "source": [
    "#### Preparing the data for datetime format"
   ]
  },
  {
   "cell_type": "code",
   "execution_count": 5,
   "metadata": {},
   "outputs": [],
   "source": [
    "# change transit_timestamp to datetime object\n",
    "df['transit_timestamp'] = pd.to_datetime(df['transit_timestamp'])"
   ]
  },
  {
   "cell_type": "markdown",
   "metadata": {},
   "source": [
    "Make a copy before slicing the dataset"
   ]
  },
  {
   "cell_type": "code",
   "execution_count": 6,
   "metadata": {},
   "outputs": [],
   "source": [
    "original_df = df.copy()"
   ]
  },
  {
   "cell_type": "markdown",
   "metadata": {},
   "source": [
    "#### Get data for one year"
   ]
  },
  {
   "cell_type": "markdown",
   "metadata": {},
   "source": [
    "Since the data begins on February 1st 2022 we will use the data from Feb. 2022 &rarr; Feb. 2023. This will allow us to have an even distribution and outliers such as holiday will only occur once in the data."
   ]
  },
  {
   "cell_type": "code",
   "execution_count": 7,
   "metadata": {},
   "outputs": [],
   "source": [
    "# Filter data for the specified time range\n",
    "start_date = pd.Timestamp('2022-02-01')\n",
    "end_date = pd.Timestamp('2023-02-01')\n",
    "df = df[(df.transit_timestamp >= start_date) & (df.transit_timestamp < end_date)]"
   ]
  },
  {
   "cell_type": "code",
   "execution_count": 8,
   "metadata": {},
   "outputs": [
    {
     "name": "stdout",
     "output_type": "stream",
     "text": [
      "2022-02-01 00:00:00\n",
      "2023-01-31 23:00:00\n"
     ]
    }
   ],
   "source": [
    "# check the earliest and latest time of the data\n",
    "print(df['transit_timestamp'].min())\n",
    "print(df['transit_timestamp'].max())"
   ]
  },
  {
   "cell_type": "markdown",
   "metadata": {},
   "source": [
    "#### Find the total number of rows"
   ]
  },
  {
   "cell_type": "code",
   "execution_count": 9,
   "metadata": {},
   "outputs": [
    {
     "data": {
      "text/plain": [
       "(3634357, 11)"
      ]
     },
     "execution_count": 9,
     "metadata": {},
     "output_type": "execute_result"
    }
   ],
   "source": [
    "df.shape"
   ]
  },
  {
   "cell_type": "markdown",
   "metadata": {},
   "source": [
    "#### Find the number of null values"
   ]
  },
  {
   "cell_type": "code",
   "execution_count": 10,
   "metadata": {},
   "outputs": [
    {
     "data": {
      "text/plain": [
       "transit_timestamp     0\n",
       "station_complex_id    0\n",
       "station_complex       0\n",
       "borough               0\n",
       "routes                0\n",
       "payment_method        0\n",
       "ridership             0\n",
       "transfers             0\n",
       "latitude              0\n",
       "longitude             0\n",
       "Georeference          0\n",
       "dtype: int64"
      ]
     },
     "execution_count": 10,
     "metadata": {},
     "output_type": "execute_result"
    }
   ],
   "source": [
    "# total number of null values by column\n",
    "df.isnull().sum()"
   ]
  },
  {
   "cell_type": "markdown",
   "metadata": {},
   "source": [
    "#### Clean the names of the stations by removing the route numbers"
   ]
  },
  {
   "cell_type": "code",
   "execution_count": 11,
   "metadata": {},
   "outputs": [],
   "source": [
    "## remove the () and everything in between the () from each station_complex row in the df\n",
    "df['station_complex'] = df['station_complex'].str.replace(r'\\(.*\\)', '', regex=True)"
   ]
  },
  {
   "cell_type": "code",
   "execution_count": 12,
   "metadata": {},
   "outputs": [
    {
     "data": {
      "text/html": [
       "<div>\n",
       "<style scoped>\n",
       "    .dataframe tbody tr th:only-of-type {\n",
       "        vertical-align: middle;\n",
       "    }\n",
       "\n",
       "    .dataframe tbody tr th {\n",
       "        vertical-align: top;\n",
       "    }\n",
       "\n",
       "    .dataframe thead th {\n",
       "        text-align: right;\n",
       "    }\n",
       "</style>\n",
       "<table border=\"1\" class=\"dataframe\">\n",
       "  <thead>\n",
       "    <tr style=\"text-align: right;\">\n",
       "      <th></th>\n",
       "      <th>transit_timestamp</th>\n",
       "      <th>station_complex_id</th>\n",
       "      <th>station_complex</th>\n",
       "      <th>borough</th>\n",
       "      <th>routes</th>\n",
       "      <th>payment_method</th>\n",
       "      <th>ridership</th>\n",
       "      <th>transfers</th>\n",
       "      <th>latitude</th>\n",
       "      <th>longitude</th>\n",
       "      <th>Georeference</th>\n",
       "    </tr>\n",
       "  </thead>\n",
       "  <tbody>\n",
       "    <tr>\n",
       "      <th>0</th>\n",
       "      <td>2022-06-05 04:00:00</td>\n",
       "      <td>R639</td>\n",
       "      <td>Church Av</td>\n",
       "      <td>BK</td>\n",
       "      <td>2,5</td>\n",
       "      <td>all</td>\n",
       "      <td>21</td>\n",
       "      <td>0</td>\n",
       "      <td>40.650845</td>\n",
       "      <td>-73.94958</td>\n",
       "      <td>POINT (-73.94958 40.650845)</td>\n",
       "    </tr>\n",
       "    <tr>\n",
       "      <th>1</th>\n",
       "      <td>2022-06-21 03:00:00</td>\n",
       "      <td>R639</td>\n",
       "      <td>Church Av</td>\n",
       "      <td>BK</td>\n",
       "      <td>2,5</td>\n",
       "      <td>all</td>\n",
       "      <td>24</td>\n",
       "      <td>0</td>\n",
       "      <td>40.650845</td>\n",
       "      <td>-73.94958</td>\n",
       "      <td>POINT (-73.94958 40.650845)</td>\n",
       "    </tr>\n",
       "    <tr>\n",
       "      <th>2</th>\n",
       "      <td>2022-07-05 03:00:00</td>\n",
       "      <td>R639</td>\n",
       "      <td>Church Av</td>\n",
       "      <td>BK</td>\n",
       "      <td>2,5</td>\n",
       "      <td>all</td>\n",
       "      <td>23</td>\n",
       "      <td>0</td>\n",
       "      <td>40.650845</td>\n",
       "      <td>-73.94958</td>\n",
       "      <td>POINT (-73.94958 40.650845)</td>\n",
       "    </tr>\n",
       "    <tr>\n",
       "      <th>3</th>\n",
       "      <td>2022-07-07 03:00:00</td>\n",
       "      <td>R639</td>\n",
       "      <td>Church Av</td>\n",
       "      <td>BK</td>\n",
       "      <td>2,5</td>\n",
       "      <td>all</td>\n",
       "      <td>18</td>\n",
       "      <td>0</td>\n",
       "      <td>40.650845</td>\n",
       "      <td>-73.94958</td>\n",
       "      <td>POINT (-73.94958 40.650845)</td>\n",
       "    </tr>\n",
       "    <tr>\n",
       "      <th>4</th>\n",
       "      <td>2022-07-23 01:00:00</td>\n",
       "      <td>R639</td>\n",
       "      <td>Church Av</td>\n",
       "      <td>BK</td>\n",
       "      <td>2,5</td>\n",
       "      <td>all</td>\n",
       "      <td>12</td>\n",
       "      <td>0</td>\n",
       "      <td>40.650845</td>\n",
       "      <td>-73.94958</td>\n",
       "      <td>POINT (-73.94958 40.650845)</td>\n",
       "    </tr>\n",
       "    <tr>\n",
       "      <th>...</th>\n",
       "      <td>...</td>\n",
       "      <td>...</td>\n",
       "      <td>...</td>\n",
       "      <td>...</td>\n",
       "      <td>...</td>\n",
       "      <td>...</td>\n",
       "      <td>...</td>\n",
       "      <td>...</td>\n",
       "      <td>...</td>\n",
       "      <td>...</td>\n",
       "      <td>...</td>\n",
       "    </tr>\n",
       "    <tr>\n",
       "      <th>5293792</th>\n",
       "      <td>2022-11-04 12:00:00</td>\n",
       "      <td>R419</td>\n",
       "      <td>Zerega Av</td>\n",
       "      <td>BX</td>\n",
       "      <td>6</td>\n",
       "      <td>all</td>\n",
       "      <td>74</td>\n",
       "      <td>1</td>\n",
       "      <td>40.836487</td>\n",
       "      <td>-73.84704</td>\n",
       "      <td>POINT (-73.84704 40.836487)</td>\n",
       "    </tr>\n",
       "    <tr>\n",
       "      <th>5293794</th>\n",
       "      <td>2022-10-07 21:00:00</td>\n",
       "      <td>R419</td>\n",
       "      <td>Zerega Av</td>\n",
       "      <td>BX</td>\n",
       "      <td>6</td>\n",
       "      <td>all</td>\n",
       "      <td>16</td>\n",
       "      <td>0</td>\n",
       "      <td>40.836487</td>\n",
       "      <td>-73.84704</td>\n",
       "      <td>POINT (-73.84704 40.836487)</td>\n",
       "    </tr>\n",
       "    <tr>\n",
       "      <th>5293795</th>\n",
       "      <td>2022-10-04 10:00:00</td>\n",
       "      <td>R419</td>\n",
       "      <td>Zerega Av</td>\n",
       "      <td>BX</td>\n",
       "      <td>6</td>\n",
       "      <td>all</td>\n",
       "      <td>85</td>\n",
       "      <td>1</td>\n",
       "      <td>40.836487</td>\n",
       "      <td>-73.84704</td>\n",
       "      <td>POINT (-73.84704 40.836487)</td>\n",
       "    </tr>\n",
       "    <tr>\n",
       "      <th>5293796</th>\n",
       "      <td>2022-03-13 17:00:00</td>\n",
       "      <td>R419</td>\n",
       "      <td>Zerega Av</td>\n",
       "      <td>BX</td>\n",
       "      <td>6</td>\n",
       "      <td>all</td>\n",
       "      <td>26</td>\n",
       "      <td>1</td>\n",
       "      <td>40.836487</td>\n",
       "      <td>-73.84704</td>\n",
       "      <td>POINT (-73.84704 40.836487)</td>\n",
       "    </tr>\n",
       "    <tr>\n",
       "      <th>5293797</th>\n",
       "      <td>2022-08-04 09:00:00</td>\n",
       "      <td>R419</td>\n",
       "      <td>Zerega Av</td>\n",
       "      <td>BX</td>\n",
       "      <td>6</td>\n",
       "      <td>all</td>\n",
       "      <td>89</td>\n",
       "      <td>2</td>\n",
       "      <td>40.836487</td>\n",
       "      <td>-73.84704</td>\n",
       "      <td>POINT (-73.84704 40.836487)</td>\n",
       "    </tr>\n",
       "  </tbody>\n",
       "</table>\n",
       "<p>3634357 rows × 11 columns</p>\n",
       "</div>"
      ],
      "text/plain": [
       "          transit_timestamp station_complex_id station_complex borough routes  \\\n",
       "0       2022-06-05 04:00:00               R639      Church Av       BK    2,5   \n",
       "1       2022-06-21 03:00:00               R639      Church Av       BK    2,5   \n",
       "2       2022-07-05 03:00:00               R639      Church Av       BK    2,5   \n",
       "3       2022-07-07 03:00:00               R639      Church Av       BK    2,5   \n",
       "4       2022-07-23 01:00:00               R639      Church Av       BK    2,5   \n",
       "...                     ...                ...             ...     ...    ...   \n",
       "5293792 2022-11-04 12:00:00               R419      Zerega Av       BX      6   \n",
       "5293794 2022-10-07 21:00:00               R419      Zerega Av       BX      6   \n",
       "5293795 2022-10-04 10:00:00               R419      Zerega Av       BX      6   \n",
       "5293796 2022-03-13 17:00:00               R419      Zerega Av       BX      6   \n",
       "5293797 2022-08-04 09:00:00               R419      Zerega Av       BX      6   \n",
       "\n",
       "        payment_method  ridership  transfers   latitude  longitude  \\\n",
       "0                  all         21          0  40.650845  -73.94958   \n",
       "1                  all         24          0  40.650845  -73.94958   \n",
       "2                  all         23          0  40.650845  -73.94958   \n",
       "3                  all         18          0  40.650845  -73.94958   \n",
       "4                  all         12          0  40.650845  -73.94958   \n",
       "...                ...        ...        ...        ...        ...   \n",
       "5293792            all         74          1  40.836487  -73.84704   \n",
       "5293794            all         16          0  40.836487  -73.84704   \n",
       "5293795            all         85          1  40.836487  -73.84704   \n",
       "5293796            all         26          1  40.836487  -73.84704   \n",
       "5293797            all         89          2  40.836487  -73.84704   \n",
       "\n",
       "                        Georeference  \n",
       "0        POINT (-73.94958 40.650845)  \n",
       "1        POINT (-73.94958 40.650845)  \n",
       "2        POINT (-73.94958 40.650845)  \n",
       "3        POINT (-73.94958 40.650845)  \n",
       "4        POINT (-73.94958 40.650845)  \n",
       "...                              ...  \n",
       "5293792  POINT (-73.84704 40.836487)  \n",
       "5293794  POINT (-73.84704 40.836487)  \n",
       "5293795  POINT (-73.84704 40.836487)  \n",
       "5293796  POINT (-73.84704 40.836487)  \n",
       "5293797  POINT (-73.84704 40.836487)  \n",
       "\n",
       "[3634357 rows x 11 columns]"
      ]
     },
     "execution_count": 12,
     "metadata": {},
     "output_type": "execute_result"
    }
   ],
   "source": [
    "df"
   ]
  },
  {
   "cell_type": "markdown",
   "metadata": {},
   "source": [
    "Great! There are no null values in the dataset."
   ]
  },
  {
   "cell_type": "markdown",
   "metadata": {},
   "source": [
    "#### Preparing the data for geovisualization"
   ]
  },
  {
   "cell_type": "code",
   "execution_count": 13,
   "metadata": {},
   "outputs": [],
   "source": [
    "# make geodataframe out of df\n",
    "gdf = gpd.GeoDataFrame(df, geometry=gpd.points_from_xy(df['longitude'], df['latitude']))\n",
    "\n",
    "geo_stations_df = gdf.groupby(['station_complex_id', 'station_complex', 'borough', 'latitude','longitude', 'geometry'])['ridership'].sum().reset_index()"
   ]
  },
  {
   "cell_type": "markdown",
   "metadata": {},
   "source": [
    "____"
   ]
  },
  {
   "cell_type": "markdown",
   "metadata": {},
   "source": [
    "### 3. Exploratory Data Analysis"
   ]
  },
  {
   "cell_type": "markdown",
   "metadata": {},
   "source": [
    "How many subway stations in our dataset?"
   ]
  },
  {
   "cell_type": "code",
   "execution_count": 14,
   "metadata": {},
   "outputs": [
    {
     "name": "stdout",
     "output_type": "stream",
     "text": [
      "423\n"
     ]
    }
   ],
   "source": [
    "# print the number of unique station complex ids\n",
    "print(df['station_complex_id'].nunique())"
   ]
  },
  {
   "cell_type": "markdown",
   "metadata": {},
   "source": [
    "Create a new dataframe grouped by station and ridership"
   ]
  },
  {
   "cell_type": "code",
   "execution_count": 15,
   "metadata": {},
   "outputs": [
    {
     "data": {
      "text/plain": [
       "(423, 6)"
      ]
     },
     "execution_count": 15,
     "metadata": {},
     "output_type": "execute_result"
    }
   ],
   "source": [
    "by_station_df = df.groupby(['station_complex_id', 'station_complex', 'borough', 'latitude', 'longitude'])['ridership'].sum().reset_index()\n",
    "\n",
    "by_station_df.shape"
   ]
  },
  {
   "cell_type": "code",
   "execution_count": 16,
   "metadata": {},
   "outputs": [
    {
     "data": {
      "text/html": [
       "<div>\n",
       "<style scoped>\n",
       "    .dataframe tbody tr th:only-of-type {\n",
       "        vertical-align: middle;\n",
       "    }\n",
       "\n",
       "    .dataframe tbody tr th {\n",
       "        vertical-align: top;\n",
       "    }\n",
       "\n",
       "    .dataframe thead th {\n",
       "        text-align: right;\n",
       "    }\n",
       "</style>\n",
       "<table border=\"1\" class=\"dataframe\">\n",
       "  <thead>\n",
       "    <tr style=\"text-align: right;\">\n",
       "      <th></th>\n",
       "      <th>station_complex_id</th>\n",
       "      <th>station_complex</th>\n",
       "      <th>borough</th>\n",
       "      <th>latitude</th>\n",
       "      <th>longitude</th>\n",
       "      <th>ridership</th>\n",
       "    </tr>\n",
       "  </thead>\n",
       "  <tbody>\n",
       "    <tr>\n",
       "      <th>0</th>\n",
       "      <td>A002</td>\n",
       "      <td>Lexington Av</td>\n",
       "      <td>M</td>\n",
       "      <td>40.762660</td>\n",
       "      <td>-73.967255</td>\n",
       "      <td>10082907</td>\n",
       "    </tr>\n",
       "    <tr>\n",
       "      <th>1</th>\n",
       "      <td>A006</td>\n",
       "      <td>5 Av-59 St</td>\n",
       "      <td>M</td>\n",
       "      <td>40.764812</td>\n",
       "      <td>-73.973350</td>\n",
       "      <td>3065515</td>\n",
       "    </tr>\n",
       "    <tr>\n",
       "      <th>2</th>\n",
       "      <td>A010</td>\n",
       "      <td>57 St-7 Av</td>\n",
       "      <td>M</td>\n",
       "      <td>40.764664</td>\n",
       "      <td>-73.980660</td>\n",
       "      <td>6579806</td>\n",
       "    </tr>\n",
       "    <tr>\n",
       "      <th>3</th>\n",
       "      <td>A013</td>\n",
       "      <td>49 St</td>\n",
       "      <td>M</td>\n",
       "      <td>40.759900</td>\n",
       "      <td>-73.984140</td>\n",
       "      <td>4772207</td>\n",
       "    </tr>\n",
       "    <tr>\n",
       "      <th>4</th>\n",
       "      <td>A022</td>\n",
       "      <td>34 St-Herald Sq</td>\n",
       "      <td>M</td>\n",
       "      <td>40.749718</td>\n",
       "      <td>-73.987820</td>\n",
       "      <td>21372034</td>\n",
       "    </tr>\n",
       "  </tbody>\n",
       "</table>\n",
       "</div>"
      ],
      "text/plain": [
       "  station_complex_id   station_complex borough   latitude  longitude  \\\n",
       "0               A002     Lexington Av        M  40.762660 -73.967255   \n",
       "1               A006       5 Av-59 St        M  40.764812 -73.973350   \n",
       "2               A010       57 St-7 Av        M  40.764664 -73.980660   \n",
       "3               A013            49 St        M  40.759900 -73.984140   \n",
       "4               A022  34 St-Herald Sq        M  40.749718 -73.987820   \n",
       "\n",
       "   ridership  \n",
       "0   10082907  \n",
       "1    3065515  \n",
       "2    6579806  \n",
       "3    4772207  \n",
       "4   21372034  "
      ]
     },
     "execution_count": 16,
     "metadata": {},
     "output_type": "execute_result"
    }
   ],
   "source": [
    "by_station_df.head()"
   ]
  },
  {
   "cell_type": "markdown",
   "metadata": {},
   "source": [
    "#### Riders by borough"
   ]
  },
  {
   "cell_type": "code",
   "execution_count": 17,
   "metadata": {},
   "outputs": [
    {
     "data": {
      "text/plain": [
       "borough\n",
       "BK    237932586\n",
       "BX     81994749\n",
       "M     560176396\n",
       "Q     156471936\n",
       "Name: ridership, dtype: int64"
      ]
     },
     "execution_count": 17,
     "metadata": {},
     "output_type": "execute_result"
    }
   ],
   "source": [
    "## get the total ridership by borough\n",
    "boroughs = df.groupby('borough')['ridership'].sum()\n",
    "boroughs"
   ]
  },
  {
   "cell_type": "markdown",
   "metadata": {},
   "source": [
    "#### Visualizing the amount of ridership by borough"
   ]
  },
  {
   "cell_type": "code",
   "execution_count": 18,
   "metadata": {},
   "outputs": [
    {
     "data": {
      "application/vnd.plotly.v1+json": {
       "config": {
        "plotlyServerURL": "https://plot.ly"
       },
       "data": [
        {
         "branchvalues": "total",
         "domain": {
          "x": [
           0,
           1
          ],
          "y": [
           0,
           1
          ]
         },
         "hovertemplate": "labels=%{label}<br>value=%{value}<br>parent=%{parent}<br>id=%{id}<extra></extra>",
         "ids": [
          "BK",
          "BX",
          "M",
          "Q"
         ],
         "labels": [
          "BK",
          "BX",
          "M",
          "Q"
         ],
         "name": "",
         "parents": [
          "",
          "",
          "",
          ""
         ],
         "type": "treemap",
         "values": [
          237932586,
          81994749,
          560176396,
          156471936
         ]
        }
       ],
       "layout": {
        "legend": {
         "tracegroupgap": 0
        },
        "template": {
         "data": {
          "bar": [
           {
            "error_x": {
             "color": "#2a3f5f"
            },
            "error_y": {
             "color": "#2a3f5f"
            },
            "marker": {
             "line": {
              "color": "#E5ECF6",
              "width": 0.5
             },
             "pattern": {
              "fillmode": "overlay",
              "size": 10,
              "solidity": 0.2
             }
            },
            "type": "bar"
           }
          ],
          "barpolar": [
           {
            "marker": {
             "line": {
              "color": "#E5ECF6",
              "width": 0.5
             },
             "pattern": {
              "fillmode": "overlay",
              "size": 10,
              "solidity": 0.2
             }
            },
            "type": "barpolar"
           }
          ],
          "carpet": [
           {
            "aaxis": {
             "endlinecolor": "#2a3f5f",
             "gridcolor": "white",
             "linecolor": "white",
             "minorgridcolor": "white",
             "startlinecolor": "#2a3f5f"
            },
            "baxis": {
             "endlinecolor": "#2a3f5f",
             "gridcolor": "white",
             "linecolor": "white",
             "minorgridcolor": "white",
             "startlinecolor": "#2a3f5f"
            },
            "type": "carpet"
           }
          ],
          "choropleth": [
           {
            "colorbar": {
             "outlinewidth": 0,
             "ticks": ""
            },
            "type": "choropleth"
           }
          ],
          "contour": [
           {
            "colorbar": {
             "outlinewidth": 0,
             "ticks": ""
            },
            "colorscale": [
             [
              0,
              "#0d0887"
             ],
             [
              0.1111111111111111,
              "#46039f"
             ],
             [
              0.2222222222222222,
              "#7201a8"
             ],
             [
              0.3333333333333333,
              "#9c179e"
             ],
             [
              0.4444444444444444,
              "#bd3786"
             ],
             [
              0.5555555555555556,
              "#d8576b"
             ],
             [
              0.6666666666666666,
              "#ed7953"
             ],
             [
              0.7777777777777778,
              "#fb9f3a"
             ],
             [
              0.8888888888888888,
              "#fdca26"
             ],
             [
              1,
              "#f0f921"
             ]
            ],
            "type": "contour"
           }
          ],
          "contourcarpet": [
           {
            "colorbar": {
             "outlinewidth": 0,
             "ticks": ""
            },
            "type": "contourcarpet"
           }
          ],
          "heatmap": [
           {
            "colorbar": {
             "outlinewidth": 0,
             "ticks": ""
            },
            "colorscale": [
             [
              0,
              "#0d0887"
             ],
             [
              0.1111111111111111,
              "#46039f"
             ],
             [
              0.2222222222222222,
              "#7201a8"
             ],
             [
              0.3333333333333333,
              "#9c179e"
             ],
             [
              0.4444444444444444,
              "#bd3786"
             ],
             [
              0.5555555555555556,
              "#d8576b"
             ],
             [
              0.6666666666666666,
              "#ed7953"
             ],
             [
              0.7777777777777778,
              "#fb9f3a"
             ],
             [
              0.8888888888888888,
              "#fdca26"
             ],
             [
              1,
              "#f0f921"
             ]
            ],
            "type": "heatmap"
           }
          ],
          "heatmapgl": [
           {
            "colorbar": {
             "outlinewidth": 0,
             "ticks": ""
            },
            "colorscale": [
             [
              0,
              "#0d0887"
             ],
             [
              0.1111111111111111,
              "#46039f"
             ],
             [
              0.2222222222222222,
              "#7201a8"
             ],
             [
              0.3333333333333333,
              "#9c179e"
             ],
             [
              0.4444444444444444,
              "#bd3786"
             ],
             [
              0.5555555555555556,
              "#d8576b"
             ],
             [
              0.6666666666666666,
              "#ed7953"
             ],
             [
              0.7777777777777778,
              "#fb9f3a"
             ],
             [
              0.8888888888888888,
              "#fdca26"
             ],
             [
              1,
              "#f0f921"
             ]
            ],
            "type": "heatmapgl"
           }
          ],
          "histogram": [
           {
            "marker": {
             "pattern": {
              "fillmode": "overlay",
              "size": 10,
              "solidity": 0.2
             }
            },
            "type": "histogram"
           }
          ],
          "histogram2d": [
           {
            "colorbar": {
             "outlinewidth": 0,
             "ticks": ""
            },
            "colorscale": [
             [
              0,
              "#0d0887"
             ],
             [
              0.1111111111111111,
              "#46039f"
             ],
             [
              0.2222222222222222,
              "#7201a8"
             ],
             [
              0.3333333333333333,
              "#9c179e"
             ],
             [
              0.4444444444444444,
              "#bd3786"
             ],
             [
              0.5555555555555556,
              "#d8576b"
             ],
             [
              0.6666666666666666,
              "#ed7953"
             ],
             [
              0.7777777777777778,
              "#fb9f3a"
             ],
             [
              0.8888888888888888,
              "#fdca26"
             ],
             [
              1,
              "#f0f921"
             ]
            ],
            "type": "histogram2d"
           }
          ],
          "histogram2dcontour": [
           {
            "colorbar": {
             "outlinewidth": 0,
             "ticks": ""
            },
            "colorscale": [
             [
              0,
              "#0d0887"
             ],
             [
              0.1111111111111111,
              "#46039f"
             ],
             [
              0.2222222222222222,
              "#7201a8"
             ],
             [
              0.3333333333333333,
              "#9c179e"
             ],
             [
              0.4444444444444444,
              "#bd3786"
             ],
             [
              0.5555555555555556,
              "#d8576b"
             ],
             [
              0.6666666666666666,
              "#ed7953"
             ],
             [
              0.7777777777777778,
              "#fb9f3a"
             ],
             [
              0.8888888888888888,
              "#fdca26"
             ],
             [
              1,
              "#f0f921"
             ]
            ],
            "type": "histogram2dcontour"
           }
          ],
          "mesh3d": [
           {
            "colorbar": {
             "outlinewidth": 0,
             "ticks": ""
            },
            "type": "mesh3d"
           }
          ],
          "parcoords": [
           {
            "line": {
             "colorbar": {
              "outlinewidth": 0,
              "ticks": ""
             }
            },
            "type": "parcoords"
           }
          ],
          "pie": [
           {
            "automargin": true,
            "type": "pie"
           }
          ],
          "scatter": [
           {
            "fillpattern": {
             "fillmode": "overlay",
             "size": 10,
             "solidity": 0.2
            },
            "type": "scatter"
           }
          ],
          "scatter3d": [
           {
            "line": {
             "colorbar": {
              "outlinewidth": 0,
              "ticks": ""
             }
            },
            "marker": {
             "colorbar": {
              "outlinewidth": 0,
              "ticks": ""
             }
            },
            "type": "scatter3d"
           }
          ],
          "scattercarpet": [
           {
            "marker": {
             "colorbar": {
              "outlinewidth": 0,
              "ticks": ""
             }
            },
            "type": "scattercarpet"
           }
          ],
          "scattergeo": [
           {
            "marker": {
             "colorbar": {
              "outlinewidth": 0,
              "ticks": ""
             }
            },
            "type": "scattergeo"
           }
          ],
          "scattergl": [
           {
            "marker": {
             "colorbar": {
              "outlinewidth": 0,
              "ticks": ""
             }
            },
            "type": "scattergl"
           }
          ],
          "scattermapbox": [
           {
            "marker": {
             "colorbar": {
              "outlinewidth": 0,
              "ticks": ""
             }
            },
            "type": "scattermapbox"
           }
          ],
          "scatterpolar": [
           {
            "marker": {
             "colorbar": {
              "outlinewidth": 0,
              "ticks": ""
             }
            },
            "type": "scatterpolar"
           }
          ],
          "scatterpolargl": [
           {
            "marker": {
             "colorbar": {
              "outlinewidth": 0,
              "ticks": ""
             }
            },
            "type": "scatterpolargl"
           }
          ],
          "scatterternary": [
           {
            "marker": {
             "colorbar": {
              "outlinewidth": 0,
              "ticks": ""
             }
            },
            "type": "scatterternary"
           }
          ],
          "surface": [
           {
            "colorbar": {
             "outlinewidth": 0,
             "ticks": ""
            },
            "colorscale": [
             [
              0,
              "#0d0887"
             ],
             [
              0.1111111111111111,
              "#46039f"
             ],
             [
              0.2222222222222222,
              "#7201a8"
             ],
             [
              0.3333333333333333,
              "#9c179e"
             ],
             [
              0.4444444444444444,
              "#bd3786"
             ],
             [
              0.5555555555555556,
              "#d8576b"
             ],
             [
              0.6666666666666666,
              "#ed7953"
             ],
             [
              0.7777777777777778,
              "#fb9f3a"
             ],
             [
              0.8888888888888888,
              "#fdca26"
             ],
             [
              1,
              "#f0f921"
             ]
            ],
            "type": "surface"
           }
          ],
          "table": [
           {
            "cells": {
             "fill": {
              "color": "#EBF0F8"
             },
             "line": {
              "color": "white"
             }
            },
            "header": {
             "fill": {
              "color": "#C8D4E3"
             },
             "line": {
              "color": "white"
             }
            },
            "type": "table"
           }
          ]
         },
         "layout": {
          "annotationdefaults": {
           "arrowcolor": "#2a3f5f",
           "arrowhead": 0,
           "arrowwidth": 1
          },
          "autotypenumbers": "strict",
          "coloraxis": {
           "colorbar": {
            "outlinewidth": 0,
            "ticks": ""
           }
          },
          "colorscale": {
           "diverging": [
            [
             0,
             "#8e0152"
            ],
            [
             0.1,
             "#c51b7d"
            ],
            [
             0.2,
             "#de77ae"
            ],
            [
             0.3,
             "#f1b6da"
            ],
            [
             0.4,
             "#fde0ef"
            ],
            [
             0.5,
             "#f7f7f7"
            ],
            [
             0.6,
             "#e6f5d0"
            ],
            [
             0.7,
             "#b8e186"
            ],
            [
             0.8,
             "#7fbc41"
            ],
            [
             0.9,
             "#4d9221"
            ],
            [
             1,
             "#276419"
            ]
           ],
           "sequential": [
            [
             0,
             "#0d0887"
            ],
            [
             0.1111111111111111,
             "#46039f"
            ],
            [
             0.2222222222222222,
             "#7201a8"
            ],
            [
             0.3333333333333333,
             "#9c179e"
            ],
            [
             0.4444444444444444,
             "#bd3786"
            ],
            [
             0.5555555555555556,
             "#d8576b"
            ],
            [
             0.6666666666666666,
             "#ed7953"
            ],
            [
             0.7777777777777778,
             "#fb9f3a"
            ],
            [
             0.8888888888888888,
             "#fdca26"
            ],
            [
             1,
             "#f0f921"
            ]
           ],
           "sequentialminus": [
            [
             0,
             "#0d0887"
            ],
            [
             0.1111111111111111,
             "#46039f"
            ],
            [
             0.2222222222222222,
             "#7201a8"
            ],
            [
             0.3333333333333333,
             "#9c179e"
            ],
            [
             0.4444444444444444,
             "#bd3786"
            ],
            [
             0.5555555555555556,
             "#d8576b"
            ],
            [
             0.6666666666666666,
             "#ed7953"
            ],
            [
             0.7777777777777778,
             "#fb9f3a"
            ],
            [
             0.8888888888888888,
             "#fdca26"
            ],
            [
             1,
             "#f0f921"
            ]
           ]
          },
          "colorway": [
           "#636efa",
           "#EF553B",
           "#00cc96",
           "#ab63fa",
           "#FFA15A",
           "#19d3f3",
           "#FF6692",
           "#B6E880",
           "#FF97FF",
           "#FECB52"
          ],
          "font": {
           "color": "#2a3f5f"
          },
          "geo": {
           "bgcolor": "white",
           "lakecolor": "white",
           "landcolor": "#E5ECF6",
           "showlakes": true,
           "showland": true,
           "subunitcolor": "white"
          },
          "hoverlabel": {
           "align": "left"
          },
          "hovermode": "closest",
          "mapbox": {
           "style": "light"
          },
          "paper_bgcolor": "white",
          "plot_bgcolor": "#E5ECF6",
          "polar": {
           "angularaxis": {
            "gridcolor": "white",
            "linecolor": "white",
            "ticks": ""
           },
           "bgcolor": "#E5ECF6",
           "radialaxis": {
            "gridcolor": "white",
            "linecolor": "white",
            "ticks": ""
           }
          },
          "scene": {
           "xaxis": {
            "backgroundcolor": "#E5ECF6",
            "gridcolor": "white",
            "gridwidth": 2,
            "linecolor": "white",
            "showbackground": true,
            "ticks": "",
            "zerolinecolor": "white"
           },
           "yaxis": {
            "backgroundcolor": "#E5ECF6",
            "gridcolor": "white",
            "gridwidth": 2,
            "linecolor": "white",
            "showbackground": true,
            "ticks": "",
            "zerolinecolor": "white"
           },
           "zaxis": {
            "backgroundcolor": "#E5ECF6",
            "gridcolor": "white",
            "gridwidth": 2,
            "linecolor": "white",
            "showbackground": true,
            "ticks": "",
            "zerolinecolor": "white"
           }
          },
          "shapedefaults": {
           "line": {
            "color": "#2a3f5f"
           }
          },
          "ternary": {
           "aaxis": {
            "gridcolor": "white",
            "linecolor": "white",
            "ticks": ""
           },
           "baxis": {
            "gridcolor": "white",
            "linecolor": "white",
            "ticks": ""
           },
           "bgcolor": "#E5ECF6",
           "caxis": {
            "gridcolor": "white",
            "linecolor": "white",
            "ticks": ""
           }
          },
          "title": {
           "x": 0.05
          },
          "xaxis": {
           "automargin": true,
           "gridcolor": "white",
           "linecolor": "white",
           "ticks": "",
           "title": {
            "standoff": 15
           },
           "zerolinecolor": "white",
           "zerolinewidth": 2
          },
          "yaxis": {
           "automargin": true,
           "gridcolor": "white",
           "linecolor": "white",
           "ticks": "",
           "title": {
            "standoff": 15
           },
           "zerolinecolor": "white",
           "zerolinewidth": 2
          }
         }
        },
        "title": {
         "text": "Subway Ridership by Borough"
        }
       }
      }
     },
     "metadata": {},
     "output_type": "display_data"
    }
   ],
   "source": [
    "fig = px.treemap(boroughs, path=[boroughs.index], values=boroughs.values, title='Subway Ridership by Borough')\n",
    "fig.show()"
   ]
  },
  {
   "cell_type": "markdown",
   "metadata": {},
   "source": [
    "We can see that Manhattan has the most ridership, followed by Brooklyn, Queens and the Bronx."
   ]
  },
  {
   "cell_type": "markdown",
   "metadata": {},
   "source": [
    "#### Visualizing the number of stations by Borough"
   ]
  },
  {
   "cell_type": "code",
   "execution_count": 19,
   "metadata": {},
   "outputs": [
    {
     "data": {
      "application/vnd.plotly.v1+json": {
       "config": {
        "plotlyServerURL": "https://plot.ly"
       },
       "data": [
        {
         "alignmentgroup": "True",
         "hovertemplate": "color=BK<br>x=%{x}<br>y=%{y}<br>text=%{text}<extra></extra>",
         "legendgroup": "BK",
         "marker": {
          "color": "#636efa",
          "pattern": {
           "shape": ""
          }
         },
         "name": "BK",
         "offsetgroup": "BK",
         "orientation": "v",
         "showlegend": true,
         "text": [
          157
         ],
         "textposition": "auto",
         "type": "bar",
         "x": [
          "Brooklyn"
         ],
         "xaxis": "x",
         "y": [
          157
         ],
         "yaxis": "y"
        },
        {
         "alignmentgroup": "True",
         "hovertemplate": "color=M<br>x=%{x}<br>y=%{y}<br>text=%{text}<extra></extra>",
         "legendgroup": "M",
         "marker": {
          "color": "#EF553B",
          "pattern": {
           "shape": ""
          }
         },
         "name": "M",
         "offsetgroup": "M",
         "orientation": "v",
         "showlegend": true,
         "text": [
          120
         ],
         "textposition": "auto",
         "type": "bar",
         "x": [
          "Manhattan"
         ],
         "xaxis": "x",
         "y": [
          120
         ],
         "yaxis": "y"
        },
        {
         "alignmentgroup": "True",
         "hovertemplate": "color=Q<br>x=%{x}<br>y=%{y}<br>text=%{text}<extra></extra>",
         "legendgroup": "Q",
         "marker": {
          "color": "#00cc96",
          "pattern": {
           "shape": ""
          }
         },
         "name": "Q",
         "offsetgroup": "Q",
         "orientation": "v",
         "showlegend": true,
         "text": [
          78
         ],
         "textposition": "auto",
         "type": "bar",
         "x": [
          "Queens"
         ],
         "xaxis": "x",
         "y": [
          78
         ],
         "yaxis": "y"
        },
        {
         "alignmentgroup": "True",
         "hovertemplate": "color=BX<br>x=%{x}<br>y=%{y}<br>text=%{text}<extra></extra>",
         "legendgroup": "BX",
         "marker": {
          "color": "#ab63fa",
          "pattern": {
           "shape": ""
          }
         },
         "name": "BX",
         "offsetgroup": "BX",
         "orientation": "v",
         "showlegend": true,
         "text": [
          68
         ],
         "textposition": "auto",
         "type": "bar",
         "x": [
          "Bronx"
         ],
         "xaxis": "x",
         "y": [
          68
         ],
         "yaxis": "y"
        }
       ],
       "layout": {
        "barmode": "relative",
        "legend": {
         "title": {
          "text": "color"
         },
         "tracegroupgap": 0
        },
        "template": {
         "data": {
          "bar": [
           {
            "error_x": {
             "color": "#2a3f5f"
            },
            "error_y": {
             "color": "#2a3f5f"
            },
            "marker": {
             "line": {
              "color": "#E5ECF6",
              "width": 0.5
             },
             "pattern": {
              "fillmode": "overlay",
              "size": 10,
              "solidity": 0.2
             }
            },
            "type": "bar"
           }
          ],
          "barpolar": [
           {
            "marker": {
             "line": {
              "color": "#E5ECF6",
              "width": 0.5
             },
             "pattern": {
              "fillmode": "overlay",
              "size": 10,
              "solidity": 0.2
             }
            },
            "type": "barpolar"
           }
          ],
          "carpet": [
           {
            "aaxis": {
             "endlinecolor": "#2a3f5f",
             "gridcolor": "white",
             "linecolor": "white",
             "minorgridcolor": "white",
             "startlinecolor": "#2a3f5f"
            },
            "baxis": {
             "endlinecolor": "#2a3f5f",
             "gridcolor": "white",
             "linecolor": "white",
             "minorgridcolor": "white",
             "startlinecolor": "#2a3f5f"
            },
            "type": "carpet"
           }
          ],
          "choropleth": [
           {
            "colorbar": {
             "outlinewidth": 0,
             "ticks": ""
            },
            "type": "choropleth"
           }
          ],
          "contour": [
           {
            "colorbar": {
             "outlinewidth": 0,
             "ticks": ""
            },
            "colorscale": [
             [
              0,
              "#0d0887"
             ],
             [
              0.1111111111111111,
              "#46039f"
             ],
             [
              0.2222222222222222,
              "#7201a8"
             ],
             [
              0.3333333333333333,
              "#9c179e"
             ],
             [
              0.4444444444444444,
              "#bd3786"
             ],
             [
              0.5555555555555556,
              "#d8576b"
             ],
             [
              0.6666666666666666,
              "#ed7953"
             ],
             [
              0.7777777777777778,
              "#fb9f3a"
             ],
             [
              0.8888888888888888,
              "#fdca26"
             ],
             [
              1,
              "#f0f921"
             ]
            ],
            "type": "contour"
           }
          ],
          "contourcarpet": [
           {
            "colorbar": {
             "outlinewidth": 0,
             "ticks": ""
            },
            "type": "contourcarpet"
           }
          ],
          "heatmap": [
           {
            "colorbar": {
             "outlinewidth": 0,
             "ticks": ""
            },
            "colorscale": [
             [
              0,
              "#0d0887"
             ],
             [
              0.1111111111111111,
              "#46039f"
             ],
             [
              0.2222222222222222,
              "#7201a8"
             ],
             [
              0.3333333333333333,
              "#9c179e"
             ],
             [
              0.4444444444444444,
              "#bd3786"
             ],
             [
              0.5555555555555556,
              "#d8576b"
             ],
             [
              0.6666666666666666,
              "#ed7953"
             ],
             [
              0.7777777777777778,
              "#fb9f3a"
             ],
             [
              0.8888888888888888,
              "#fdca26"
             ],
             [
              1,
              "#f0f921"
             ]
            ],
            "type": "heatmap"
           }
          ],
          "heatmapgl": [
           {
            "colorbar": {
             "outlinewidth": 0,
             "ticks": ""
            },
            "colorscale": [
             [
              0,
              "#0d0887"
             ],
             [
              0.1111111111111111,
              "#46039f"
             ],
             [
              0.2222222222222222,
              "#7201a8"
             ],
             [
              0.3333333333333333,
              "#9c179e"
             ],
             [
              0.4444444444444444,
              "#bd3786"
             ],
             [
              0.5555555555555556,
              "#d8576b"
             ],
             [
              0.6666666666666666,
              "#ed7953"
             ],
             [
              0.7777777777777778,
              "#fb9f3a"
             ],
             [
              0.8888888888888888,
              "#fdca26"
             ],
             [
              1,
              "#f0f921"
             ]
            ],
            "type": "heatmapgl"
           }
          ],
          "histogram": [
           {
            "marker": {
             "pattern": {
              "fillmode": "overlay",
              "size": 10,
              "solidity": 0.2
             }
            },
            "type": "histogram"
           }
          ],
          "histogram2d": [
           {
            "colorbar": {
             "outlinewidth": 0,
             "ticks": ""
            },
            "colorscale": [
             [
              0,
              "#0d0887"
             ],
             [
              0.1111111111111111,
              "#46039f"
             ],
             [
              0.2222222222222222,
              "#7201a8"
             ],
             [
              0.3333333333333333,
              "#9c179e"
             ],
             [
              0.4444444444444444,
              "#bd3786"
             ],
             [
              0.5555555555555556,
              "#d8576b"
             ],
             [
              0.6666666666666666,
              "#ed7953"
             ],
             [
              0.7777777777777778,
              "#fb9f3a"
             ],
             [
              0.8888888888888888,
              "#fdca26"
             ],
             [
              1,
              "#f0f921"
             ]
            ],
            "type": "histogram2d"
           }
          ],
          "histogram2dcontour": [
           {
            "colorbar": {
             "outlinewidth": 0,
             "ticks": ""
            },
            "colorscale": [
             [
              0,
              "#0d0887"
             ],
             [
              0.1111111111111111,
              "#46039f"
             ],
             [
              0.2222222222222222,
              "#7201a8"
             ],
             [
              0.3333333333333333,
              "#9c179e"
             ],
             [
              0.4444444444444444,
              "#bd3786"
             ],
             [
              0.5555555555555556,
              "#d8576b"
             ],
             [
              0.6666666666666666,
              "#ed7953"
             ],
             [
              0.7777777777777778,
              "#fb9f3a"
             ],
             [
              0.8888888888888888,
              "#fdca26"
             ],
             [
              1,
              "#f0f921"
             ]
            ],
            "type": "histogram2dcontour"
           }
          ],
          "mesh3d": [
           {
            "colorbar": {
             "outlinewidth": 0,
             "ticks": ""
            },
            "type": "mesh3d"
           }
          ],
          "parcoords": [
           {
            "line": {
             "colorbar": {
              "outlinewidth": 0,
              "ticks": ""
             }
            },
            "type": "parcoords"
           }
          ],
          "pie": [
           {
            "automargin": true,
            "type": "pie"
           }
          ],
          "scatter": [
           {
            "fillpattern": {
             "fillmode": "overlay",
             "size": 10,
             "solidity": 0.2
            },
            "type": "scatter"
           }
          ],
          "scatter3d": [
           {
            "line": {
             "colorbar": {
              "outlinewidth": 0,
              "ticks": ""
             }
            },
            "marker": {
             "colorbar": {
              "outlinewidth": 0,
              "ticks": ""
             }
            },
            "type": "scatter3d"
           }
          ],
          "scattercarpet": [
           {
            "marker": {
             "colorbar": {
              "outlinewidth": 0,
              "ticks": ""
             }
            },
            "type": "scattercarpet"
           }
          ],
          "scattergeo": [
           {
            "marker": {
             "colorbar": {
              "outlinewidth": 0,
              "ticks": ""
             }
            },
            "type": "scattergeo"
           }
          ],
          "scattergl": [
           {
            "marker": {
             "colorbar": {
              "outlinewidth": 0,
              "ticks": ""
             }
            },
            "type": "scattergl"
           }
          ],
          "scattermapbox": [
           {
            "marker": {
             "colorbar": {
              "outlinewidth": 0,
              "ticks": ""
             }
            },
            "type": "scattermapbox"
           }
          ],
          "scatterpolar": [
           {
            "marker": {
             "colorbar": {
              "outlinewidth": 0,
              "ticks": ""
             }
            },
            "type": "scatterpolar"
           }
          ],
          "scatterpolargl": [
           {
            "marker": {
             "colorbar": {
              "outlinewidth": 0,
              "ticks": ""
             }
            },
            "type": "scatterpolargl"
           }
          ],
          "scatterternary": [
           {
            "marker": {
             "colorbar": {
              "outlinewidth": 0,
              "ticks": ""
             }
            },
            "type": "scatterternary"
           }
          ],
          "surface": [
           {
            "colorbar": {
             "outlinewidth": 0,
             "ticks": ""
            },
            "colorscale": [
             [
              0,
              "#0d0887"
             ],
             [
              0.1111111111111111,
              "#46039f"
             ],
             [
              0.2222222222222222,
              "#7201a8"
             ],
             [
              0.3333333333333333,
              "#9c179e"
             ],
             [
              0.4444444444444444,
              "#bd3786"
             ],
             [
              0.5555555555555556,
              "#d8576b"
             ],
             [
              0.6666666666666666,
              "#ed7953"
             ],
             [
              0.7777777777777778,
              "#fb9f3a"
             ],
             [
              0.8888888888888888,
              "#fdca26"
             ],
             [
              1,
              "#f0f921"
             ]
            ],
            "type": "surface"
           }
          ],
          "table": [
           {
            "cells": {
             "fill": {
              "color": "#EBF0F8"
             },
             "line": {
              "color": "white"
             }
            },
            "header": {
             "fill": {
              "color": "#C8D4E3"
             },
             "line": {
              "color": "white"
             }
            },
            "type": "table"
           }
          ]
         },
         "layout": {
          "annotationdefaults": {
           "arrowcolor": "#2a3f5f",
           "arrowhead": 0,
           "arrowwidth": 1
          },
          "autotypenumbers": "strict",
          "coloraxis": {
           "colorbar": {
            "outlinewidth": 0,
            "ticks": ""
           }
          },
          "colorscale": {
           "diverging": [
            [
             0,
             "#8e0152"
            ],
            [
             0.1,
             "#c51b7d"
            ],
            [
             0.2,
             "#de77ae"
            ],
            [
             0.3,
             "#f1b6da"
            ],
            [
             0.4,
             "#fde0ef"
            ],
            [
             0.5,
             "#f7f7f7"
            ],
            [
             0.6,
             "#e6f5d0"
            ],
            [
             0.7,
             "#b8e186"
            ],
            [
             0.8,
             "#7fbc41"
            ],
            [
             0.9,
             "#4d9221"
            ],
            [
             1,
             "#276419"
            ]
           ],
           "sequential": [
            [
             0,
             "#0d0887"
            ],
            [
             0.1111111111111111,
             "#46039f"
            ],
            [
             0.2222222222222222,
             "#7201a8"
            ],
            [
             0.3333333333333333,
             "#9c179e"
            ],
            [
             0.4444444444444444,
             "#bd3786"
            ],
            [
             0.5555555555555556,
             "#d8576b"
            ],
            [
             0.6666666666666666,
             "#ed7953"
            ],
            [
             0.7777777777777778,
             "#fb9f3a"
            ],
            [
             0.8888888888888888,
             "#fdca26"
            ],
            [
             1,
             "#f0f921"
            ]
           ],
           "sequentialminus": [
            [
             0,
             "#0d0887"
            ],
            [
             0.1111111111111111,
             "#46039f"
            ],
            [
             0.2222222222222222,
             "#7201a8"
            ],
            [
             0.3333333333333333,
             "#9c179e"
            ],
            [
             0.4444444444444444,
             "#bd3786"
            ],
            [
             0.5555555555555556,
             "#d8576b"
            ],
            [
             0.6666666666666666,
             "#ed7953"
            ],
            [
             0.7777777777777778,
             "#fb9f3a"
            ],
            [
             0.8888888888888888,
             "#fdca26"
            ],
            [
             1,
             "#f0f921"
            ]
           ]
          },
          "colorway": [
           "#636efa",
           "#EF553B",
           "#00cc96",
           "#ab63fa",
           "#FFA15A",
           "#19d3f3",
           "#FF6692",
           "#B6E880",
           "#FF97FF",
           "#FECB52"
          ],
          "font": {
           "color": "#2a3f5f"
          },
          "geo": {
           "bgcolor": "white",
           "lakecolor": "white",
           "landcolor": "#E5ECF6",
           "showlakes": true,
           "showland": true,
           "subunitcolor": "white"
          },
          "hoverlabel": {
           "align": "left"
          },
          "hovermode": "closest",
          "mapbox": {
           "style": "light"
          },
          "paper_bgcolor": "white",
          "plot_bgcolor": "#E5ECF6",
          "polar": {
           "angularaxis": {
            "gridcolor": "white",
            "linecolor": "white",
            "ticks": ""
           },
           "bgcolor": "#E5ECF6",
           "radialaxis": {
            "gridcolor": "white",
            "linecolor": "white",
            "ticks": ""
           }
          },
          "scene": {
           "xaxis": {
            "backgroundcolor": "#E5ECF6",
            "gridcolor": "white",
            "gridwidth": 2,
            "linecolor": "white",
            "showbackground": true,
            "ticks": "",
            "zerolinecolor": "white"
           },
           "yaxis": {
            "backgroundcolor": "#E5ECF6",
            "gridcolor": "white",
            "gridwidth": 2,
            "linecolor": "white",
            "showbackground": true,
            "ticks": "",
            "zerolinecolor": "white"
           },
           "zaxis": {
            "backgroundcolor": "#E5ECF6",
            "gridcolor": "white",
            "gridwidth": 2,
            "linecolor": "white",
            "showbackground": true,
            "ticks": "",
            "zerolinecolor": "white"
           }
          },
          "shapedefaults": {
           "line": {
            "color": "#2a3f5f"
           }
          },
          "ternary": {
           "aaxis": {
            "gridcolor": "white",
            "linecolor": "white",
            "ticks": ""
           },
           "baxis": {
            "gridcolor": "white",
            "linecolor": "white",
            "ticks": ""
           },
           "bgcolor": "#E5ECF6",
           "caxis": {
            "gridcolor": "white",
            "linecolor": "white",
            "ticks": ""
           }
          },
          "title": {
           "x": 0.05
          },
          "xaxis": {
           "automargin": true,
           "gridcolor": "white",
           "linecolor": "white",
           "ticks": "",
           "title": {
            "standoff": 15
           },
           "zerolinecolor": "white",
           "zerolinewidth": 2
          },
          "yaxis": {
           "automargin": true,
           "gridcolor": "white",
           "linecolor": "white",
           "ticks": "",
           "title": {
            "standoff": 15
           },
           "zerolinecolor": "white",
           "zerolinewidth": 2
          }
         }
        },
        "title": {
         "text": "Number of Stations by Borough"
        },
        "xaxis": {
         "anchor": "y",
         "domain": [
          0,
          1
         ],
         "title": {
          "text": "Boroughs"
         }
        },
        "yaxis": {
         "anchor": "x",
         "domain": [
          0,
          1
         ],
         "title": {
          "text": "Subway Stations"
         }
        }
       }
      }
     },
     "metadata": {},
     "output_type": "display_data"
    }
   ],
   "source": [
    "station_count = by_station_df['borough'].value_counts()\n",
    "borough_names = ['Brooklyn', 'Manhattan', 'Queens', 'Bronx']\n",
    "\n",
    "fig = px.bar(x = borough_names, y = station_count.values, \n",
    "       color = station_count.index, text = station_count.values, \n",
    "       title = 'Number of Stations by Borough')\n",
    "\n",
    "fig.update_layout( xaxis_title = \"Boroughs\", yaxis_title = \"Subway Stations\")\n",
    "fig.show()"
   ]
  },
  {
   "cell_type": "markdown",
   "metadata": {},
   "source": [
    "We can see that Manhattan actually has less stations despite having the most ridership."
   ]
  },
  {
   "cell_type": "markdown",
   "metadata": {},
   "source": [
    "Using a strip plot it allows us to see that each borough has a high concentration of stations with a low number of ridership. Each borough has a few stations with a much higher ridership than the rest, we can also see just how vast the difference is between the Times Sq-42 St station and the rest of the stations."
   ]
  },
  {
   "cell_type": "code",
   "execution_count": 20,
   "metadata": {},
   "outputs": [
    {
     "data": {
      "image/png": "[encoded data removed]",
      "text/plain": [
       "<Figure size 640x480 with 1 Axes>"
      ]
     },
     "metadata": {},
     "output_type": "display_data"
    }
   ],
   "source": [
    "# make a copy of by_station_df and divide the ridership by 1 Million to normalize the data to millions\n",
    "by_station_df_normalize = by_station_df.copy()\n",
    "by_station_df_normalize['ridership'] = by_station_df_normalize['ridership']/1000000\n",
    "\n",
    "sns.stripplot(x=by_station_df_normalize['ridership'], y=by_station_df_normalize['borough'], hue=by_station_df_normalize['borough'])\n",
    "plt.yticks([0, 1, 2, 3], ['Manhattan', 'Brooklyn', 'Queens', 'Bronx']) \n",
    "plt.xlabel('Total Ridership in Millions')\n",
    "plt.ylabel('Borough')\n",
    "plt.annotate('Times Sq-42 St', xy=(0.76, 0.915), xycoords='axes fraction')\n",
    "plt.title('Ridership by Borough')\n",
    "plt.show()"
   ]
  },
  {
   "cell_type": "markdown",
   "metadata": {},
   "source": [
    "#### Ridership by day of the week"
   ]
  },
  {
   "cell_type": "code",
   "execution_count": 21,
   "metadata": {},
   "outputs": [],
   "source": [
    "## make a new column called day_of_week using the transit_timestamp column\n",
    "df['day_of_week'] = df['transit_timestamp'].dt.day_name()"
   ]
  },
  {
   "cell_type": "code",
   "execution_count": 22,
   "metadata": {},
   "outputs": [
    {
     "name": "stdout",
     "output_type": "stream",
     "text": [
      "Count of unique calendar days: 365\n"
     ]
    }
   ],
   "source": [
    "# Extract the date part from the datetime values and assign to a new column\n",
    "df.loc[:, 'date_only'] = df['transit_timestamp'].dt.date\n",
    "\n",
    "# Get the count of unique calendar days\n",
    "unique_days_count = df['date_only'].nunique()\n",
    "\n",
    "# Display the result\n",
    "print(\"Count of unique calendar days:\", unique_days_count)"
   ]
  },
  {
   "cell_type": "code",
   "execution_count": 23,
   "metadata": {},
   "outputs": [
    {
     "data": {
      "text/html": [
       "<div>\n",
       "<style scoped>\n",
       "    .dataframe tbody tr th:only-of-type {\n",
       "        vertical-align: middle;\n",
       "    }\n",
       "\n",
       "    .dataframe tbody tr th {\n",
       "        vertical-align: top;\n",
       "    }\n",
       "\n",
       "    .dataframe thead th {\n",
       "        text-align: right;\n",
       "    }\n",
       "</style>\n",
       "<table border=\"1\" class=\"dataframe\">\n",
       "  <thead>\n",
       "    <tr style=\"text-align: right;\">\n",
       "      <th></th>\n",
       "      <th>transit_timestamp</th>\n",
       "      <th>station_complex_id</th>\n",
       "      <th>station_complex</th>\n",
       "      <th>borough</th>\n",
       "      <th>routes</th>\n",
       "      <th>payment_method</th>\n",
       "      <th>ridership</th>\n",
       "      <th>transfers</th>\n",
       "      <th>latitude</th>\n",
       "      <th>longitude</th>\n",
       "      <th>Georeference</th>\n",
       "      <th>day_of_week</th>\n",
       "      <th>date_only</th>\n",
       "    </tr>\n",
       "  </thead>\n",
       "  <tbody>\n",
       "    <tr>\n",
       "      <th>0</th>\n",
       "      <td>2022-06-05 04:00:00</td>\n",
       "      <td>R639</td>\n",
       "      <td>Church Av</td>\n",
       "      <td>BK</td>\n",
       "      <td>2,5</td>\n",
       "      <td>all</td>\n",
       "      <td>21</td>\n",
       "      <td>0</td>\n",
       "      <td>40.650845</td>\n",
       "      <td>-73.94958</td>\n",
       "      <td>POINT (-73.94958 40.650845)</td>\n",
       "      <td>Sunday</td>\n",
       "      <td>2022-06-05</td>\n",
       "    </tr>\n",
       "    <tr>\n",
       "      <th>1</th>\n",
       "      <td>2022-06-21 03:00:00</td>\n",
       "      <td>R639</td>\n",
       "      <td>Church Av</td>\n",
       "      <td>BK</td>\n",
       "      <td>2,5</td>\n",
       "      <td>all</td>\n",
       "      <td>24</td>\n",
       "      <td>0</td>\n",
       "      <td>40.650845</td>\n",
       "      <td>-73.94958</td>\n",
       "      <td>POINT (-73.94958 40.650845)</td>\n",
       "      <td>Tuesday</td>\n",
       "      <td>2022-06-21</td>\n",
       "    </tr>\n",
       "    <tr>\n",
       "      <th>2</th>\n",
       "      <td>2022-07-05 03:00:00</td>\n",
       "      <td>R639</td>\n",
       "      <td>Church Av</td>\n",
       "      <td>BK</td>\n",
       "      <td>2,5</td>\n",
       "      <td>all</td>\n",
       "      <td>23</td>\n",
       "      <td>0</td>\n",
       "      <td>40.650845</td>\n",
       "      <td>-73.94958</td>\n",
       "      <td>POINT (-73.94958 40.650845)</td>\n",
       "      <td>Tuesday</td>\n",
       "      <td>2022-07-05</td>\n",
       "    </tr>\n",
       "    <tr>\n",
       "      <th>3</th>\n",
       "      <td>2022-07-07 03:00:00</td>\n",
       "      <td>R639</td>\n",
       "      <td>Church Av</td>\n",
       "      <td>BK</td>\n",
       "      <td>2,5</td>\n",
       "      <td>all</td>\n",
       "      <td>18</td>\n",
       "      <td>0</td>\n",
       "      <td>40.650845</td>\n",
       "      <td>-73.94958</td>\n",
       "      <td>POINT (-73.94958 40.650845)</td>\n",
       "      <td>Thursday</td>\n",
       "      <td>2022-07-07</td>\n",
       "    </tr>\n",
       "    <tr>\n",
       "      <th>4</th>\n",
       "      <td>2022-07-23 01:00:00</td>\n",
       "      <td>R639</td>\n",
       "      <td>Church Av</td>\n",
       "      <td>BK</td>\n",
       "      <td>2,5</td>\n",
       "      <td>all</td>\n",
       "      <td>12</td>\n",
       "      <td>0</td>\n",
       "      <td>40.650845</td>\n",
       "      <td>-73.94958</td>\n",
       "      <td>POINT (-73.94958 40.650845)</td>\n",
       "      <td>Saturday</td>\n",
       "      <td>2022-07-23</td>\n",
       "    </tr>\n",
       "  </tbody>\n",
       "</table>\n",
       "</div>"
      ],
      "text/plain": [
       "    transit_timestamp station_complex_id station_complex borough routes  \\\n",
       "0 2022-06-05 04:00:00               R639      Church Av       BK    2,5   \n",
       "1 2022-06-21 03:00:00               R639      Church Av       BK    2,5   \n",
       "2 2022-07-05 03:00:00               R639      Church Av       BK    2,5   \n",
       "3 2022-07-07 03:00:00               R639      Church Av       BK    2,5   \n",
       "4 2022-07-23 01:00:00               R639      Church Av       BK    2,5   \n",
       "\n",
       "  payment_method  ridership  transfers   latitude  longitude  \\\n",
       "0            all         21          0  40.650845  -73.94958   \n",
       "1            all         24          0  40.650845  -73.94958   \n",
       "2            all         23          0  40.650845  -73.94958   \n",
       "3            all         18          0  40.650845  -73.94958   \n",
       "4            all         12          0  40.650845  -73.94958   \n",
       "\n",
       "                  Georeference day_of_week   date_only  \n",
       "0  POINT (-73.94958 40.650845)      Sunday  2022-06-05  \n",
       "1  POINT (-73.94958 40.650845)     Tuesday  2022-06-21  \n",
       "2  POINT (-73.94958 40.650845)     Tuesday  2022-07-05  \n",
       "3  POINT (-73.94958 40.650845)    Thursday  2022-07-07  \n",
       "4  POINT (-73.94958 40.650845)    Saturday  2022-07-23  "
      ]
     },
     "execution_count": 23,
     "metadata": {},
     "output_type": "execute_result"
    }
   ],
   "source": [
    "df.head()"
   ]
  },
  {
   "cell_type": "code",
   "execution_count": 24,
   "metadata": {},
   "outputs": [
    {
     "data": {
      "text/plain": [
       "(7, 2)"
      ]
     },
     "execution_count": 24,
     "metadata": {},
     "output_type": "execute_result"
    }
   ],
   "source": [
    "by_day = df.groupby(['day_of_week'])['ridership'].sum().reset_index()\n",
    "\n",
    "by_day.shape"
   ]
  },
  {
   "cell_type": "code",
   "execution_count": 25,
   "metadata": {},
   "outputs": [
    {
     "data": {
      "text/html": [
       "<div>\n",
       "<style scoped>\n",
       "    .dataframe tbody tr th:only-of-type {\n",
       "        vertical-align: middle;\n",
       "    }\n",
       "\n",
       "    .dataframe tbody tr th {\n",
       "        vertical-align: top;\n",
       "    }\n",
       "\n",
       "    .dataframe thead th {\n",
       "        text-align: right;\n",
       "    }\n",
       "</style>\n",
       "<table border=\"1\" class=\"dataframe\">\n",
       "  <thead>\n",
       "    <tr style=\"text-align: right;\">\n",
       "      <th></th>\n",
       "      <th>day_of_week</th>\n",
       "      <th>ridership</th>\n",
       "    </tr>\n",
       "  </thead>\n",
       "  <tbody>\n",
       "    <tr>\n",
       "      <th>0</th>\n",
       "      <td>Friday</td>\n",
       "      <td>165329907</td>\n",
       "    </tr>\n",
       "    <tr>\n",
       "      <th>1</th>\n",
       "      <td>Monday</td>\n",
       "      <td>150260511</td>\n",
       "    </tr>\n",
       "    <tr>\n",
       "      <th>2</th>\n",
       "      <td>Saturday</td>\n",
       "      <td>109755854</td>\n",
       "    </tr>\n",
       "    <tr>\n",
       "      <th>3</th>\n",
       "      <td>Sunday</td>\n",
       "      <td>86029635</td>\n",
       "    </tr>\n",
       "    <tr>\n",
       "      <th>4</th>\n",
       "      <td>Thursday</td>\n",
       "      <td>174458299</td>\n",
       "    </tr>\n",
       "    <tr>\n",
       "      <th>5</th>\n",
       "      <td>Tuesday</td>\n",
       "      <td>174848214</td>\n",
       "    </tr>\n",
       "    <tr>\n",
       "      <th>6</th>\n",
       "      <td>Wednesday</td>\n",
       "      <td>175893247</td>\n",
       "    </tr>\n",
       "  </tbody>\n",
       "</table>\n",
       "</div>"
      ],
      "text/plain": [
       "  day_of_week  ridership\n",
       "0      Friday  165329907\n",
       "1      Monday  150260511\n",
       "2    Saturday  109755854\n",
       "3      Sunday   86029635\n",
       "4    Thursday  174458299\n",
       "5     Tuesday  174848214\n",
       "6   Wednesday  175893247"
      ]
     },
     "execution_count": 25,
     "metadata": {},
     "output_type": "execute_result"
    }
   ],
   "source": [
    "by_day"
   ]
  },
  {
   "cell_type": "markdown",
   "metadata": {},
   "source": [
    "Reorder the dates by setting a list of days"
   ]
  },
  {
   "cell_type": "code",
   "execution_count": 26,
   "metadata": {},
   "outputs": [],
   "source": [
    "lst = [\"Monday\", \"Tuesday\", \"Wednesday\", \"Thursday\", \"Friday\", \"Saturday\",\"Sunday\"]\n",
    "by_day[\"day_of_week\"] = pd.Categorical(by_day[\"day_of_week\"], categories=lst, ordered=True)\n",
    "\n",
    "# Sort the DataFrame based on the custom order of the 'day_of_week' column\n",
    "by_day = by_day.sort_values(\"day_of_week\")\n",
    "\n",
    "# Reset the index if needed\n",
    "by_day = by_day.reset_index(drop=True)"
   ]
  },
  {
   "cell_type": "code",
   "execution_count": 27,
   "metadata": {},
   "outputs": [
    {
     "data": {
      "text/html": [
       "<div>\n",
       "<style scoped>\n",
       "    .dataframe tbody tr th:only-of-type {\n",
       "        vertical-align: middle;\n",
       "    }\n",
       "\n",
       "    .dataframe tbody tr th {\n",
       "        vertical-align: top;\n",
       "    }\n",
       "\n",
       "    .dataframe thead th {\n",
       "        text-align: right;\n",
       "    }\n",
       "</style>\n",
       "<table border=\"1\" class=\"dataframe\">\n",
       "  <thead>\n",
       "    <tr style=\"text-align: right;\">\n",
       "      <th></th>\n",
       "      <th>day_of_week</th>\n",
       "      <th>ridership</th>\n",
       "    </tr>\n",
       "  </thead>\n",
       "  <tbody>\n",
       "    <tr>\n",
       "      <th>0</th>\n",
       "      <td>Monday</td>\n",
       "      <td>150260511</td>\n",
       "    </tr>\n",
       "    <tr>\n",
       "      <th>1</th>\n",
       "      <td>Tuesday</td>\n",
       "      <td>174848214</td>\n",
       "    </tr>\n",
       "    <tr>\n",
       "      <th>2</th>\n",
       "      <td>Wednesday</td>\n",
       "      <td>175893247</td>\n",
       "    </tr>\n",
       "    <tr>\n",
       "      <th>3</th>\n",
       "      <td>Thursday</td>\n",
       "      <td>174458299</td>\n",
       "    </tr>\n",
       "    <tr>\n",
       "      <th>4</th>\n",
       "      <td>Friday</td>\n",
       "      <td>165329907</td>\n",
       "    </tr>\n",
       "    <tr>\n",
       "      <th>5</th>\n",
       "      <td>Saturday</td>\n",
       "      <td>109755854</td>\n",
       "    </tr>\n",
       "    <tr>\n",
       "      <th>6</th>\n",
       "      <td>Sunday</td>\n",
       "      <td>86029635</td>\n",
       "    </tr>\n",
       "  </tbody>\n",
       "</table>\n",
       "</div>"
      ],
      "text/plain": [
       "  day_of_week  ridership\n",
       "0      Monday  150260511\n",
       "1     Tuesday  174848214\n",
       "2   Wednesday  175893247\n",
       "3    Thursday  174458299\n",
       "4      Friday  165329907\n",
       "5    Saturday  109755854\n",
       "6      Sunday   86029635"
      ]
     },
     "execution_count": 27,
     "metadata": {},
     "output_type": "execute_result"
    }
   ],
   "source": [
    "by_day"
   ]
  },
  {
   "cell_type": "markdown",
   "metadata": {},
   "source": [
    "Get the average ridership per day"
   ]
  },
  {
   "cell_type": "code",
   "execution_count": 28,
   "metadata": {},
   "outputs": [],
   "source": [
    "by_day['ridership_per_day'] = by_day['ridership'] / 365\n"
   ]
  },
  {
   "cell_type": "code",
   "execution_count": 29,
   "metadata": {},
   "outputs": [
    {
     "data": {
      "text/html": [
       "<div>\n",
       "<style scoped>\n",
       "    .dataframe tbody tr th:only-of-type {\n",
       "        vertical-align: middle;\n",
       "    }\n",
       "\n",
       "    .dataframe tbody tr th {\n",
       "        vertical-align: top;\n",
       "    }\n",
       "\n",
       "    .dataframe thead th {\n",
       "        text-align: right;\n",
       "    }\n",
       "</style>\n",
       "<table border=\"1\" class=\"dataframe\">\n",
       "  <thead>\n",
       "    <tr style=\"text-align: right;\">\n",
       "      <th></th>\n",
       "      <th>day_of_week</th>\n",
       "      <th>ridership</th>\n",
       "      <th>ridership_per_day</th>\n",
       "    </tr>\n",
       "  </thead>\n",
       "  <tbody>\n",
       "    <tr>\n",
       "      <th>0</th>\n",
       "      <td>Monday</td>\n",
       "      <td>150260511</td>\n",
       "      <td>411672.632877</td>\n",
       "    </tr>\n",
       "    <tr>\n",
       "      <th>1</th>\n",
       "      <td>Tuesday</td>\n",
       "      <td>174848214</td>\n",
       "      <td>479036.202740</td>\n",
       "    </tr>\n",
       "    <tr>\n",
       "      <th>2</th>\n",
       "      <td>Wednesday</td>\n",
       "      <td>175893247</td>\n",
       "      <td>481899.306849</td>\n",
       "    </tr>\n",
       "    <tr>\n",
       "      <th>3</th>\n",
       "      <td>Thursday</td>\n",
       "      <td>174458299</td>\n",
       "      <td>477967.942466</td>\n",
       "    </tr>\n",
       "    <tr>\n",
       "      <th>4</th>\n",
       "      <td>Friday</td>\n",
       "      <td>165329907</td>\n",
       "      <td>452958.649315</td>\n",
       "    </tr>\n",
       "    <tr>\n",
       "      <th>5</th>\n",
       "      <td>Saturday</td>\n",
       "      <td>109755854</td>\n",
       "      <td>300700.969863</td>\n",
       "    </tr>\n",
       "    <tr>\n",
       "      <th>6</th>\n",
       "      <td>Sunday</td>\n",
       "      <td>86029635</td>\n",
       "      <td>235697.630137</td>\n",
       "    </tr>\n",
       "  </tbody>\n",
       "</table>\n",
       "</div>"
      ],
      "text/plain": [
       "  day_of_week  ridership  ridership_per_day\n",
       "0      Monday  150260511      411672.632877\n",
       "1     Tuesday  174848214      479036.202740\n",
       "2   Wednesday  175893247      481899.306849\n",
       "3    Thursday  174458299      477967.942466\n",
       "4      Friday  165329907      452958.649315\n",
       "5    Saturday  109755854      300700.969863\n",
       "6      Sunday   86029635      235697.630137"
      ]
     },
     "execution_count": 29,
     "metadata": {},
     "output_type": "execute_result"
    }
   ],
   "source": [
    "by_day"
   ]
  },
  {
   "cell_type": "code",
   "execution_count": 30,
   "metadata": {},
   "outputs": [
    {
     "data": {
      "image/png": "[encoded data removed]",
      "text/plain": [
       "<Figure size 640x480 with 1 Axes>"
      ]
     },
     "metadata": {},
     "output_type": "display_data"
    }
   ],
   "source": [
    "## plot just the ridership_per_day\n",
    "by_day['ridership_per_day'].plot(kind='bar')\n",
    "## name the plot\n",
    "plt.title('Number of Riders by Day of the Week')\n",
    "## label the x-axis with day_of_the_week\n",
    "## change the x-axis to be the day of the week\n",
    "## make xticks angled\n",
    "plt.xlabel('Day of the Week')\n",
    "plt.ylabel('Number of Daily Riders')\n",
    "plt.xticks(rotation=45)\n",
    "plt.xticks(range(7), lst, rotation=65)\n",
    "plt.show()"
   ]
  },
  {
   "cell_type": "markdown",
   "metadata": {},
   "source": [
    "We can see that the middle of the work week tends to have the highest number of riders, with a significant decrease on the weekends. We can create a similar visualization to see the ridership by month/"
   ]
  },
  {
   "cell_type": "code",
   "execution_count": 55,
   "metadata": {},
   "outputs": [
    {
     "data": {
      "text/html": [
       "<div>\n",
       "<style scoped>\n",
       "    .dataframe tbody tr th:only-of-type {\n",
       "        vertical-align: middle;\n",
       "    }\n",
       "\n",
       "    .dataframe tbody tr th {\n",
       "        vertical-align: top;\n",
       "    }\n",
       "\n",
       "    .dataframe thead th {\n",
       "        text-align: right;\n",
       "    }\n",
       "</style>\n",
       "<table border=\"1\" class=\"dataframe\">\n",
       "  <thead>\n",
       "    <tr style=\"text-align: right;\">\n",
       "      <th></th>\n",
       "      <th>month_only</th>\n",
       "      <th>ridership</th>\n",
       "      <th>ridership_per_month</th>\n",
       "    </tr>\n",
       "  </thead>\n",
       "  <tbody>\n",
       "    <tr>\n",
       "      <th>0</th>\n",
       "      <td>1</td>\n",
       "      <td>89433985</td>\n",
       "      <td>7452832</td>\n",
       "    </tr>\n",
       "    <tr>\n",
       "      <th>1</th>\n",
       "      <td>2</td>\n",
       "      <td>64580744</td>\n",
       "      <td>5381729</td>\n",
       "    </tr>\n",
       "    <tr>\n",
       "      <th>2</th>\n",
       "      <td>3</td>\n",
       "      <td>87630454</td>\n",
       "      <td>7302538</td>\n",
       "    </tr>\n",
       "    <tr>\n",
       "      <th>3</th>\n",
       "      <td>4</td>\n",
       "      <td>83623068</td>\n",
       "      <td>6968589</td>\n",
       "    </tr>\n",
       "    <tr>\n",
       "      <th>4</th>\n",
       "      <td>5</td>\n",
       "      <td>88044092</td>\n",
       "      <td>7337008</td>\n",
       "    </tr>\n",
       "  </tbody>\n",
       "</table>\n",
       "</div>"
      ],
      "text/plain": [
       "   month_only  ridership  ridership_per_month\n",
       "0           1   89433985              7452832\n",
       "1           2   64580744              5381729\n",
       "2           3   87630454              7302538\n",
       "3           4   83623068              6968589\n",
       "4           5   88044092              7337008"
      ]
     },
     "execution_count": 55,
     "metadata": {},
     "output_type": "execute_result"
    }
   ],
   "source": [
    "df.loc[:, 'month_only'] = df['transit_timestamp'].dt.month\n",
    "\n",
    "by_month = df.groupby(['month_only'])['ridership'].sum().reset_index()\n",
    "by_month['ridership_per_month'] = (by_month['ridership'] / 12).round().astype(int)\n",
    "by_month.head()"
   ]
  },
  {
   "cell_type": "code",
   "execution_count": 57,
   "metadata": {},
   "outputs": [
    {
     "data": {
      "image/png": "[encoded data removed]",
      "text/plain": [
       "<Figure size 640x480 with 1 Axes>"
      ]
     },
     "metadata": {},
     "output_type": "display_data"
    }
   ],
   "source": [
    "plt.bar(by_month['month_only'], by_month['ridership_per_month'])\n",
    "plt.xlabel('Month')\n",
    "plt.ylabel('Ridership')\n",
    "plt.title('Ridership per Month')\n",
    "plt.xticks(by_month['month_only'], ['Jan', 'Feb', 'Mar', 'Apr', 'May', 'Jun', 'Jul', 'Aug', 'Sep', 'Oct','Nov', 'Dec'])\n",
    "plt.show()"
   ]
  },
  {
   "cell_type": "markdown",
   "metadata": {},
   "source": [
    "We see a large decrease in february and a slight drop off during July and August. This is likely due to February only having 28 days and July and August being the summer months which would correlate with vacation frequency."
   ]
  },
  {
   "cell_type": "markdown",
   "metadata": {},
   "source": [
    "### Number of Riders by hour"
   ]
  },
  {
   "cell_type": "code",
   "execution_count": 35,
   "metadata": {},
   "outputs": [
    {
     "data": {
      "image/png": "[encoded data removed]",
      "text/plain": [
       "<Figure size 1000x600 with 1 Axes>"
      ]
     },
     "metadata": {},
     "output_type": "display_data"
    }
   ],
   "source": [
    "# Step 3: Extract the hour from 'transit_timestamp'\n",
    "df['hour'] = df['transit_timestamp'].dt.hour\n",
    "\n",
    "# Step 4: Calculate the average number of riders for each hour\n",
    "average_riders_per_hour = df.groupby('hour')['ridership'].mean()\n",
    "\n",
    "# Step 5: Plot the data on a graph\n",
    "plt.figure(figsize=(10, 6))\n",
    "plt.plot(average_riders_per_hour.index, average_riders_per_hour.values, marker='o', linestyle='-')\n",
    "plt.xlabel('Hour of the Day')\n",
    "plt.ylabel('Average Number of Riders')\n",
    "plt.title('Average Number of Riders per Hour')\n",
    "plt.xticks(average_riders_per_hour.index)\n",
    "plt.grid(True)\n",
    "plt.show()"
   ]
  },
  {
   "cell_type": "markdown",
   "metadata": {},
   "source": [
    "#### Most popular stations\n",
    "Popularity based by average ridership"
   ]
  },
  {
   "cell_type": "code",
   "execution_count": 36,
   "metadata": {},
   "outputs": [],
   "source": [
    "top_10_stations = by_station_df.sort_values(by=['ridership'], ascending=False).head(10)"
   ]
  },
  {
   "cell_type": "code",
   "execution_count": 37,
   "metadata": {},
   "outputs": [
    {
     "data": {
      "text/html": [
       "<div>\n",
       "<style scoped>\n",
       "    .dataframe tbody tr th:only-of-type {\n",
       "        vertical-align: middle;\n",
       "    }\n",
       "\n",
       "    .dataframe tbody tr th {\n",
       "        vertical-align: top;\n",
       "    }\n",
       "\n",
       "    .dataframe thead th {\n",
       "        text-align: right;\n",
       "    }\n",
       "</style>\n",
       "<table border=\"1\" class=\"dataframe\">\n",
       "  <thead>\n",
       "    <tr style=\"text-align: right;\">\n",
       "      <th></th>\n",
       "      <th>station_complex_id</th>\n",
       "      <th>station_complex</th>\n",
       "      <th>borough</th>\n",
       "      <th>latitude</th>\n",
       "      <th>longitude</th>\n",
       "      <th>ridership</th>\n",
       "    </tr>\n",
       "  </thead>\n",
       "  <tbody>\n",
       "    <tr>\n",
       "      <th>134</th>\n",
       "      <td>N060</td>\n",
       "      <td>Times Sq-42 St</td>\n",
       "      <td>M</td>\n",
       "      <td>40.757310</td>\n",
       "      <td>-73.981964</td>\n",
       "      <td>45796626</td>\n",
       "    </tr>\n",
       "    <tr>\n",
       "      <th>303</th>\n",
       "      <td>R238</td>\n",
       "      <td>Grand Central-42 St</td>\n",
       "      <td>M</td>\n",
       "      <td>40.751778</td>\n",
       "      <td>-73.976845</td>\n",
       "      <td>24057336</td>\n",
       "    </tr>\n",
       "    <tr>\n",
       "      <th>4</th>\n",
       "      <td>A022</td>\n",
       "      <td>34 St-Herald Sq</td>\n",
       "      <td>M</td>\n",
       "      <td>40.749718</td>\n",
       "      <td>-73.987820</td>\n",
       "      <td>21372034</td>\n",
       "    </tr>\n",
       "    <tr>\n",
       "      <th>7</th>\n",
       "      <td>A034</td>\n",
       "      <td>14 St-Union Sq</td>\n",
       "      <td>M</td>\n",
       "      <td>40.735737</td>\n",
       "      <td>-73.989950</td>\n",
       "      <td>18401074</td>\n",
       "    </tr>\n",
       "    <tr>\n",
       "      <th>142</th>\n",
       "      <td>N095</td>\n",
       "      <td>Fulton St</td>\n",
       "      <td>M</td>\n",
       "      <td>40.710373</td>\n",
       "      <td>-74.006570</td>\n",
       "      <td>15329162</td>\n",
       "    </tr>\n",
       "    <tr>\n",
       "      <th>135</th>\n",
       "      <td>N070</td>\n",
       "      <td>34 St-Penn Station</td>\n",
       "      <td>M</td>\n",
       "      <td>40.752290</td>\n",
       "      <td>-73.993390</td>\n",
       "      <td>14845400</td>\n",
       "    </tr>\n",
       "    <tr>\n",
       "      <th>132</th>\n",
       "      <td>N049</td>\n",
       "      <td>59 St-Columbus Circle</td>\n",
       "      <td>M</td>\n",
       "      <td>40.768295</td>\n",
       "      <td>-73.981735</td>\n",
       "      <td>14073198</td>\n",
       "    </tr>\n",
       "    <tr>\n",
       "      <th>271</th>\n",
       "      <td>R135</td>\n",
       "      <td>34 St-Penn Station</td>\n",
       "      <td>M</td>\n",
       "      <td>40.750374</td>\n",
       "      <td>-73.991060</td>\n",
       "      <td>13891761</td>\n",
       "    </tr>\n",
       "    <tr>\n",
       "      <th>390</th>\n",
       "      <td>R533</td>\n",
       "      <td>Flushing-Main St</td>\n",
       "      <td>Q</td>\n",
       "      <td>40.759600</td>\n",
       "      <td>-73.830030</td>\n",
       "      <td>12100549</td>\n",
       "    </tr>\n",
       "    <tr>\n",
       "      <th>383</th>\n",
       "      <td>R525</td>\n",
       "      <td>74-Broadway</td>\n",
       "      <td>Q</td>\n",
       "      <td>40.746850</td>\n",
       "      <td>-73.891335</td>\n",
       "      <td>12022536</td>\n",
       "    </tr>\n",
       "  </tbody>\n",
       "</table>\n",
       "</div>"
      ],
      "text/plain": [
       "    station_complex_id         station_complex borough   latitude  longitude  \\\n",
       "134               N060         Times Sq-42 St        M  40.757310 -73.981964   \n",
       "303               R238    Grand Central-42 St        M  40.751778 -73.976845   \n",
       "4                 A022        34 St-Herald Sq        M  40.749718 -73.987820   \n",
       "7                 A034         14 St-Union Sq        M  40.735737 -73.989950   \n",
       "142               N095              Fulton St        M  40.710373 -74.006570   \n",
       "135               N070     34 St-Penn Station        M  40.752290 -73.993390   \n",
       "132               N049  59 St-Columbus Circle        M  40.768295 -73.981735   \n",
       "271               R135     34 St-Penn Station        M  40.750374 -73.991060   \n",
       "390               R533       Flushing-Main St        Q  40.759600 -73.830030   \n",
       "383               R525            74-Broadway        Q  40.746850 -73.891335   \n",
       "\n",
       "     ridership  \n",
       "134   45796626  \n",
       "303   24057336  \n",
       "4     21372034  \n",
       "7     18401074  \n",
       "142   15329162  \n",
       "135   14845400  \n",
       "132   14073198  \n",
       "271   13891761  \n",
       "390   12100549  \n",
       "383   12022536  "
      ]
     },
     "execution_count": 37,
     "metadata": {},
     "output_type": "execute_result"
    }
   ],
   "source": [
    "top_10_stations"
   ]
  },
  {
   "cell_type": "code",
   "execution_count": 38,
   "metadata": {},
   "outputs": [
    {
     "data": {
      "image/png": "[encoded data removed]",
      "text/plain": [
       "<Figure size 1000x500 with 1 Axes>"
      ]
     },
     "metadata": {},
     "output_type": "display_data"
    }
   ],
   "source": [
    "# Borough colors\n",
    "borough_colors = {'M': 'blue', 'BK': 'orange', 'Q': 'green', 'BX': 'red'}\n",
    "\n",
    "plt.figure(figsize=(10, 5))\n",
    "\n",
    "# Plot each bar separately with the specified color\n",
    "for i, station in enumerate(top_10_stations['station_complex']):\n",
    "    plt.barh(station, top_10_stations['ridership'].iloc[i], color=borough_colors[top_10_stations['borough'].iloc[i]])\n",
    "\n",
    "plt.title('Top 10 Stations with Highest Traffic', fontsize=20)\n",
    "plt.xlabel('Ridership', fontsize=15)\n",
    "plt.ylabel('Station', fontsize=15)\n",
    "plt.xticks(fontsize=12)\n",
    "plt.yticks(fontsize=12)\n",
    "plt.gca().invert_yaxis()\n",
    "\n",
    "# Create custom legend for borough colors\n",
    "handles = [plt.Rectangle((0, 0), 1, 1, color=borough_colors[borough]) for borough in borough_colors]\n",
    "labels = list(borough_colors.keys())\n",
    "plt.legend(handles, labels, title='Borough')\n",
    "\n",
    "plt.show()"
   ]
  },
  {
   "cell_type": "markdown",
   "metadata": {},
   "source": [
    "#### How much usage do the top 10 stations account for?"
   ]
  },
  {
   "cell_type": "code",
   "execution_count": 39,
   "metadata": {},
   "outputs": [],
   "source": [
    "## sum of all ridership in by_station_df\n",
    "# by_station_df['total_ridership'] = by_station_df['ridership'].sum(axis=1)\n",
    "total_ridership = by_station_df['ridership'].sum()\n",
    "top_10_ridership = top_10_stations['ridership'].sum()"
   ]
  },
  {
   "cell_type": "code",
   "execution_count": 40,
   "metadata": {},
   "outputs": [
    {
     "name": "stdout",
     "output_type": "stream",
     "text": [
      "Percentage of total ridership from the 10 most popular stations: 18.51%\n",
      "These 10 stations only account for 2.36% of the total number of stations\n"
     ]
    }
   ],
   "source": [
    "percentage_of_ridership_from_top10 = top_10_ridership / total_ridership * 100\n",
    "print(f\"Percentage of total ridership from the 10 most popular stations: {percentage_of_ridership_from_top10:.2f}%\")\n",
    "\n",
    "## get total number of rows in the dataframe\n",
    "stations_total = len(by_station_df)\n",
    "print(f\"These 10 stations only account for {((10/stations_total)*100):.2f}% of the total number of stations\")"
   ]
  },
  {
   "cell_type": "markdown",
   "metadata": {},
   "source": [
    "____"
   ]
  },
  {
   "cell_type": "markdown",
   "metadata": {},
   "source": [
    "### 4. Geographical Visualization "
   ]
  },
  {
   "cell_type": "markdown",
   "metadata": {},
   "source": [
    "Find the ridership per day"
   ]
  },
  {
   "cell_type": "code",
   "execution_count": 41,
   "metadata": {},
   "outputs": [],
   "source": [
    "by_station_df['ridership_per_day'] = by_station_df['ridership'] / 365\n",
    "# round ridership_per_day to a whole number\n",
    "by_station_df['ridership_per_day'] = by_station_df['ridership_per_day'].round(0)"
   ]
  },
  {
   "cell_type": "markdown",
   "metadata": {},
   "source": [
    "Connecting to Mapbox API with a public token"
   ]
  },
  {
   "cell_type": "code",
   "execution_count": 42,
   "metadata": {},
   "outputs": [],
   "source": [
    "mapbox_token = 'pk.eyJ1Ijoibmlja2dlbnR6IiwiYSI6ImNsMnE4MXBqYTFodWozamt6Y3UzaDN2bm8ifQ.sudv6WDuPydt3LtqMLJZlw'"
   ]
  },
  {
   "cell_type": "markdown",
   "metadata": {},
   "source": [
    "Setup markers and get the ridership per day"
   ]
  },
  {
   "cell_type": "code",
   "execution_count": 43,
   "metadata": {},
   "outputs": [
    {
     "data": {
      "text/html": [
       "<div>\n",
       "<style scoped>\n",
       "    .dataframe tbody tr th:only-of-type {\n",
       "        vertical-align: middle;\n",
       "    }\n",
       "\n",
       "    .dataframe tbody tr th {\n",
       "        vertical-align: top;\n",
       "    }\n",
       "\n",
       "    .dataframe thead th {\n",
       "        text-align: right;\n",
       "    }\n",
       "</style>\n",
       "<table border=\"1\" class=\"dataframe\">\n",
       "  <thead>\n",
       "    <tr style=\"text-align: right;\">\n",
       "      <th></th>\n",
       "      <th>station_complex_id</th>\n",
       "      <th>station_complex</th>\n",
       "      <th>borough</th>\n",
       "      <th>latitude</th>\n",
       "      <th>longitude</th>\n",
       "      <th>ridership</th>\n",
       "      <th>ridership_per_day</th>\n",
       "      <th>scaled_marker_size</th>\n",
       "      <th>locked_marker_size</th>\n",
       "    </tr>\n",
       "  </thead>\n",
       "  <tbody>\n",
       "    <tr>\n",
       "      <th>0</th>\n",
       "      <td>A002</td>\n",
       "      <td>Lexington Av</td>\n",
       "      <td>M</td>\n",
       "      <td>40.762660</td>\n",
       "      <td>-73.967255</td>\n",
       "      <td>10082907</td>\n",
       "      <td>27624.0</td>\n",
       "      <td>16.5123</td>\n",
       "      <td>1</td>\n",
       "    </tr>\n",
       "    <tr>\n",
       "      <th>1</th>\n",
       "      <td>A006</td>\n",
       "      <td>5 Av-59 St</td>\n",
       "      <td>M</td>\n",
       "      <td>40.764812</td>\n",
       "      <td>-73.973350</td>\n",
       "      <td>3065515</td>\n",
       "      <td>8399.0</td>\n",
       "      <td>5.0205</td>\n",
       "      <td>1</td>\n",
       "    </tr>\n",
       "    <tr>\n",
       "      <th>2</th>\n",
       "      <td>A010</td>\n",
       "      <td>57 St-7 Av</td>\n",
       "      <td>M</td>\n",
       "      <td>40.764664</td>\n",
       "      <td>-73.980660</td>\n",
       "      <td>6579806</td>\n",
       "      <td>18027.0</td>\n",
       "      <td>10.7757</td>\n",
       "      <td>1</td>\n",
       "    </tr>\n",
       "    <tr>\n",
       "      <th>3</th>\n",
       "      <td>A013</td>\n",
       "      <td>49 St</td>\n",
       "      <td>M</td>\n",
       "      <td>40.759900</td>\n",
       "      <td>-73.984140</td>\n",
       "      <td>4772207</td>\n",
       "      <td>13075.0</td>\n",
       "      <td>7.8156</td>\n",
       "      <td>1</td>\n",
       "    </tr>\n",
       "    <tr>\n",
       "      <th>4</th>\n",
       "      <td>A022</td>\n",
       "      <td>34 St-Herald Sq</td>\n",
       "      <td>M</td>\n",
       "      <td>40.749718</td>\n",
       "      <td>-73.987820</td>\n",
       "      <td>21372034</td>\n",
       "      <td>58554.0</td>\n",
       "      <td>35.0008</td>\n",
       "      <td>1</td>\n",
       "    </tr>\n",
       "  </tbody>\n",
       "</table>\n",
       "</div>"
      ],
      "text/plain": [
       "  station_complex_id   station_complex borough   latitude  longitude  \\\n",
       "0               A002     Lexington Av        M  40.762660 -73.967255   \n",
       "1               A006       5 Av-59 St        M  40.764812 -73.973350   \n",
       "2               A010       57 St-7 Av        M  40.764664 -73.980660   \n",
       "3               A013            49 St        M  40.759900 -73.984140   \n",
       "4               A022  34 St-Herald Sq        M  40.749718 -73.987820   \n",
       "\n",
       "   ridership  ridership_per_day  scaled_marker_size  locked_marker_size  \n",
       "0   10082907            27624.0             16.5123                   1  \n",
       "1    3065515             8399.0              5.0205                   1  \n",
       "2    6579806            18027.0             10.7757                   1  \n",
       "3    4772207            13075.0              7.8156                   1  \n",
       "4   21372034            58554.0             35.0008                   1  "
      ]
     },
     "execution_count": 43,
     "metadata": {},
     "output_type": "execute_result"
    }
   ],
   "source": [
    "# new column called scaled_marker_size with a number that is a fraction of ridership_per_day\n",
    "# this new column will be used to display a normalized marker size for ridership\n",
    "by_station_df['scaled_marker_size'] = by_station_df['ridership_per_day'] / by_station_df['ridership_per_day'].max() * 75\n",
    "\n",
    "# round scaled_marker-size to 4 decimal places\n",
    "by_station_df['scaled_marker_size'] = by_station_df['scaled_marker_size'].round(4)\n",
    "\n",
    "# new column called locked_marker_size with a value of 1\n",
    "# this will lock the lowest marker size to 1\n",
    "by_station_df['locked_marker_size'] = 1\n",
    "by_station_df.head()"
   ]
  },
  {
   "cell_type": "markdown",
   "metadata": {},
   "source": [
    "Create bins for the ridership"
   ]
  },
  {
   "cell_type": "code",
   "execution_count": 44,
   "metadata": {},
   "outputs": [],
   "source": [
    "bins = [161.55, 10000, 50000, 75000, 135546]\n",
    "bin_labels = [\n",
    "    'Low (161 - 10000)',\n",
    "    'Medium (10,000 - 50,000)',\n",
    "    'High (50,000 - 75,000)',\n",
    "    'Very High (75,000+)'\n",
    "]\n",
    "\n",
    "# Create a dictionary to map bin labels to colors\n",
    "bin_colors = {\n",
    "    'Low (161 - 10000)': 'rgb(255, 195, 0)',\n",
    "    'Medium (10,000 - 50,000)': 'rgb(255, 87, 51)',\n",
    "    'High (50,000 - 75,000)': 'rgb(199, 0, 57)',\n",
    "    'Very High (75,000+)': 'rgb(88, 24, 69)'\n",
    "}\n",
    "by_station_df['ridership_bin'] = pd.cut(by_station_df['ridership_per_day'], bins=bins, labels=bin_labels)\n"
   ]
  },
  {
   "cell_type": "code",
   "execution_count": 45,
   "metadata": {},
   "outputs": [],
   "source": [
    "# reorder by_station_df to do the highest ridership_per_day to lowest ridership_per_day\n",
    "by_station_df = by_station_df.sort_values(by=['ridership_per_day'], ascending=False)\n",
    "\n",
    "by_station_df = by_station_df.reset_index(drop=True)"
   ]
  },
  {
   "cell_type": "code",
   "execution_count": 46,
   "metadata": {},
   "outputs": [
    {
     "data": {
      "text/html": [
       "<div>\n",
       "<style scoped>\n",
       "    .dataframe tbody tr th:only-of-type {\n",
       "        vertical-align: middle;\n",
       "    }\n",
       "\n",
       "    .dataframe tbody tr th {\n",
       "        vertical-align: top;\n",
       "    }\n",
       "\n",
       "    .dataframe thead th {\n",
       "        text-align: right;\n",
       "    }\n",
       "</style>\n",
       "<table border=\"1\" class=\"dataframe\">\n",
       "  <thead>\n",
       "    <tr style=\"text-align: right;\">\n",
       "      <th></th>\n",
       "      <th>station_complex_id</th>\n",
       "      <th>station_complex</th>\n",
       "      <th>borough</th>\n",
       "      <th>latitude</th>\n",
       "      <th>longitude</th>\n",
       "      <th>ridership</th>\n",
       "      <th>ridership_per_day</th>\n",
       "      <th>scaled_marker_size</th>\n",
       "      <th>locked_marker_size</th>\n",
       "      <th>ridership_bin</th>\n",
       "    </tr>\n",
       "  </thead>\n",
       "  <tbody>\n",
       "    <tr>\n",
       "      <th>0</th>\n",
       "      <td>N060</td>\n",
       "      <td>Times Sq-42 St</td>\n",
       "      <td>M</td>\n",
       "      <td>40.757310</td>\n",
       "      <td>-73.981964</td>\n",
       "      <td>45796626</td>\n",
       "      <td>125470.0</td>\n",
       "      <td>75.0000</td>\n",
       "      <td>1</td>\n",
       "      <td>Very High (75,000+)</td>\n",
       "    </tr>\n",
       "    <tr>\n",
       "      <th>1</th>\n",
       "      <td>R238</td>\n",
       "      <td>Grand Central-42 St</td>\n",
       "      <td>M</td>\n",
       "      <td>40.751778</td>\n",
       "      <td>-73.976845</td>\n",
       "      <td>24057336</td>\n",
       "      <td>65911.0</td>\n",
       "      <td>39.3985</td>\n",
       "      <td>1</td>\n",
       "      <td>High (50,000 - 75,000)</td>\n",
       "    </tr>\n",
       "    <tr>\n",
       "      <th>2</th>\n",
       "      <td>A022</td>\n",
       "      <td>34 St-Herald Sq</td>\n",
       "      <td>M</td>\n",
       "      <td>40.749718</td>\n",
       "      <td>-73.987820</td>\n",
       "      <td>21372034</td>\n",
       "      <td>58554.0</td>\n",
       "      <td>35.0008</td>\n",
       "      <td>1</td>\n",
       "      <td>High (50,000 - 75,000)</td>\n",
       "    </tr>\n",
       "    <tr>\n",
       "      <th>3</th>\n",
       "      <td>A034</td>\n",
       "      <td>14 St-Union Sq</td>\n",
       "      <td>M</td>\n",
       "      <td>40.735737</td>\n",
       "      <td>-73.989950</td>\n",
       "      <td>18401074</td>\n",
       "      <td>50414.0</td>\n",
       "      <td>30.1351</td>\n",
       "      <td>1</td>\n",
       "      <td>High (50,000 - 75,000)</td>\n",
       "    </tr>\n",
       "    <tr>\n",
       "      <th>4</th>\n",
       "      <td>N095</td>\n",
       "      <td>Fulton St</td>\n",
       "      <td>M</td>\n",
       "      <td>40.710373</td>\n",
       "      <td>-74.006570</td>\n",
       "      <td>15329162</td>\n",
       "      <td>41998.0</td>\n",
       "      <td>25.1044</td>\n",
       "      <td>1</td>\n",
       "      <td>Medium (10,000 - 50,000)</td>\n",
       "    </tr>\n",
       "  </tbody>\n",
       "</table>\n",
       "</div>"
      ],
      "text/plain": [
       "  station_complex_id       station_complex borough   latitude  longitude  \\\n",
       "0               N060       Times Sq-42 St        M  40.757310 -73.981964   \n",
       "1               R238  Grand Central-42 St        M  40.751778 -73.976845   \n",
       "2               A022      34 St-Herald Sq        M  40.749718 -73.987820   \n",
       "3               A034       14 St-Union Sq        M  40.735737 -73.989950   \n",
       "4               N095            Fulton St        M  40.710373 -74.006570   \n",
       "\n",
       "   ridership  ridership_per_day  scaled_marker_size  locked_marker_size  \\\n",
       "0   45796626           125470.0             75.0000                   1   \n",
       "1   24057336            65911.0             39.3985                   1   \n",
       "2   21372034            58554.0             35.0008                   1   \n",
       "3   18401074            50414.0             30.1351                   1   \n",
       "4   15329162            41998.0             25.1044                   1   \n",
       "\n",
       "              ridership_bin  \n",
       "0       Very High (75,000+)  \n",
       "1    High (50,000 - 75,000)  \n",
       "2    High (50,000 - 75,000)  \n",
       "3    High (50,000 - 75,000)  \n",
       "4  Medium (10,000 - 50,000)  "
      ]
     },
     "execution_count": 46,
     "metadata": {},
     "output_type": "execute_result"
    }
   ],
   "source": [
    "by_station_df.head()"
   ]
  },
  {
   "cell_type": "markdown",
   "metadata": {},
   "source": [
    "### Using a heatmap"
   ]
  },
  {
   "cell_type": "markdown",
   "metadata": {},
   "source": [
    "The advantages of a heatmap are that it is easier to see the density of the ridership. The disadvantage is that it is harder to see the exact location of the stations. This map also clearly indicates where the gaps are in the subway system. If we see a high density of ridership for only one station, this could indicate that there is a need for more stations in that area."
   ]
  },
  {
   "cell_type": "code",
   "execution_count": 58,
   "metadata": {},
   "outputs": [
    {
     "data": {
      "text/html": [
       "<div style=\"width:100%;\"><div style=\"position:relative;width:100%;height:0;padding-bottom:60%;\"><span style=\"color:#565656\">Make this Notebook Trusted to load map: File -> Trust Notebook</span><iframe srcdoc=\"&lt;!DOCTYPE html&gt;\n",
       "&lt;html&gt;\n",
       "&lt;head&gt;\n",
       "    \n",
       "    &lt;meta http-equiv=&quot;content-type&quot; content=&quot;text/html; charset=UTF-8&quot; /&gt;\n",
       "    \n",
       "        &lt;script&gt;\n",
       "            L_NO_TOUCH = false;\n",
       "            L_DISABLE_3D = false;\n",
       "        &lt;/script&gt;\n",
       "    \n",
       "    &lt;style&gt;html, body {width: 100%;height: 100%;margin: 0;padding: 0;}&lt;/style&gt;\n",
       "    &lt;style&gt;#map {position:absolute;top:0;bottom:0;right:0;left:0;}&lt;/style&gt;\n",
       "    &lt;script src=&quot;https://cdn.jsdelivr.net/npm/leaflet@1.9.3/dist/leaflet.js&quot;&gt;&lt;/script&gt;\n",
       "    &lt;script src=&quot;https://code.jquery.com/jquery-1.12.4.min.js&quot;&gt;&lt;/script&gt;\n",
       "    &lt;script src=&quot;https://cdn.jsdelivr.net/npm/bootstrap@5.2.2/dist/js/bootstrap.bundle.min.js&quot;&gt;&lt;/script&gt;\n",
       "    &lt;script src=&quot;https://cdnjs.cloudflare.com/ajax/libs/Leaflet.awesome-markers/2.0.2/leaflet.awesome-markers.js&quot;&gt;&lt;/script&gt;\n",
       "    &lt;link rel=&quot;stylesheet&quot; href=&quot;https://cdn.jsdelivr.net/npm/leaflet@1.9.3/dist/leaflet.css&quot;/&gt;\n",
       "    &lt;link rel=&quot;stylesheet&quot; href=&quot;https://cdn.jsdelivr.net/npm/bootstrap@5.2.2/dist/css/bootstrap.min.css&quot;/&gt;\n",
       "    &lt;link rel=&quot;stylesheet&quot; href=&quot;https://netdna.bootstrapcdn.com/bootstrap/3.0.0/css/bootstrap.min.css&quot;/&gt;\n",
       "    &lt;link rel=&quot;stylesheet&quot; href=&quot;https://cdn.jsdelivr.net/npm/@fortawesome/fontawesome-free@6.2.0/css/all.min.css&quot;/&gt;\n",
       "    &lt;link rel=&quot;stylesheet&quot; href=&quot;https://cdnjs.cloudflare.com/ajax/libs/Leaflet.awesome-markers/2.0.2/leaflet.awesome-markers.css&quot;/&gt;\n",
       "    &lt;link rel=&quot;stylesheet&quot; href=&quot;https://cdn.jsdelivr.net/gh/python-visualization/folium/folium/templates/leaflet.awesome.rotate.min.css&quot;/&gt;\n",
       "    \n",
       "            &lt;meta name=&quot;viewport&quot; content=&quot;width=device-width,\n",
       "                initial-scale=1.0, maximum-scale=1.0, user-scalable=no&quot; /&gt;\n",
       "            &lt;style&gt;\n",
       "                #map_d34cee87329d55aa45a4151d9be79961 {\n",
       "                    position: relative;\n",
       "                    width: 100.0%;\n",
       "                    height: 100.0%;\n",
       "                    left: 0.0%;\n",
       "                    top: 0.0%;\n",
       "                }\n",
       "                .leaflet-container { font-size: 1rem; }\n",
       "            &lt;/style&gt;\n",
       "        \n",
       "    &lt;script src=&quot;https://cdn.jsdelivr.net/gh/python-visualization/folium@main/folium/templates/leaflet_heat.min.js&quot;&gt;&lt;/script&gt;\n",
       "&lt;/head&gt;\n",
       "&lt;body&gt;\n",
       "    \n",
       "    \n",
       "            &lt;div class=&quot;folium-map&quot; id=&quot;map_d34cee87329d55aa45a4151d9be79961&quot; &gt;&lt;/div&gt;\n",
       "        \n",
       "&lt;/body&gt;\n",
       "&lt;script&gt;\n",
       "    \n",
       "    \n",
       "            var map_d34cee87329d55aa45a4151d9be79961 = L.map(\n",
       "                &quot;map_d34cee87329d55aa45a4151d9be79961&quot;,\n",
       "                {\n",
       "                    center: [40.75, -73.9],\n",
       "                    crs: L.CRS.EPSG3857,\n",
       "                    zoom: 11,\n",
       "                    zoomControl: true,\n",
       "                    preferCanvas: false,\n",
       "                }\n",
       "            );\n",
       "\n",
       "            \n",
       "\n",
       "        \n",
       "    \n",
       "            var tile_layer_34cc4d1bac71e9937931f2f3c84d3a84 = L.tileLayer(\n",
       "                &quot;https://cartodb-basemaps-{s}.global.ssl.fastly.net/light_all/{z}/{x}/{y}.png&quot;,\n",
       "                {&quot;attribution&quot;: &quot;\\u0026copy; \\u003ca target=\\&quot;_blank\\&quot; href=\\&quot;http://www.openstreetmap.org/copyright\\&quot;\\u003eOpenStreetMap\\u003c/a\\u003e contributors \\u0026copy; \\u003ca target=\\&quot;_blank\\&quot; href=\\&quot;http://cartodb.com/attributions\\&quot;\\u003eCartoDB\\u003c/a\\u003e, CartoDB \\u003ca target=\\&quot;_blank\\&quot; href =\\&quot;http://cartodb.com/attributions\\&quot;\\u003eattributions\\u003c/a\\u003e&quot;, &quot;detectRetina&quot;: false, &quot;maxNativeZoom&quot;: 18, &quot;maxZoom&quot;: 18, &quot;minZoom&quot;: 0, &quot;noWrap&quot;: false, &quot;opacity&quot;: 1, &quot;subdomains&quot;: &quot;abc&quot;, &quot;tms&quot;: false}\n",
       "            ).addTo(map_d34cee87329d55aa45a4151d9be79961);\n",
       "        \n",
       "    \n",
       "            var heat_map_1fac77f8179ffecaefbb936428aba425 = L.heatLayer(\n",
       "                [[40.76266, -73.967255, 10082907], [40.764812, -73.97335, 3065515], [40.764664, -73.98066, 6579806], [40.7599, -73.98414, 4772207], [40.749718, -73.98782, 21372034], [40.745495, -73.98869, 2202544], [40.741302, -73.98934, 3735642], [40.735737, -73.98995, 18401074], [40.730328, -73.99263, 3344797], [40.72433, -73.9977, 2715986], [40.71953, -73.99989, 8852617], [40.713284, -74.00698, 973887], [40.70722, -74.01334, 978780], [40.72028, -73.99391, 768289], [40.71324, -74.0034, 5188900], [40.706474, -74.011055, 1080082], [40.67705, -73.97237, 1950168], [40.67477, -73.95763, 329942], [40.661613, -73.96225, 2151031], [40.655293, -73.961494, 1278500], [40.650528, -73.96298, 3074675], [40.64403, -73.96449, 758771], [40.640926, -73.96389, 1245394], [40.635082, -73.96279, 2060854], [40.62927, -73.96164, 618607], [40.62504, -73.9608, 1138567], [40.61762, -73.9594, 1149063], [40.60867, -73.95773, 3968676], [40.5993, -73.95593, 1453513], [40.595245, -73.95516, 855036], [40.586895, -73.954155, 2586491], [40.57762, -73.96137, 2350264], [40.576313, -73.9685, 681394], [40.690636, -73.98183, 4046423], [40.677315, -73.98311, 1489597], [40.67085, -73.988304, 2620923], [40.665413, -73.992874, 1195885], [40.660397, -73.99809, 764942], [40.655144, -74.00355, 3264079], [40.648937, -74.01001, 1616474], [40.64507, -74.01403, 1866333], [40.64136, -74.01788, 2641442], [40.634968, -74.02338, 1536734], [40.62974, -74.02551, 1041306], [40.62269, -74.0284, 2321091], [40.616623, -74.030876, 1055522], [40.635063, -74.01172, 2358749], [40.631386, -74.00535, 1369772], [40.62067, -73.99042, 1096000], [40.61741, -73.98502, 839800], [40.611816, -73.98185, 1505458], [40.603924, -73.980354, 1145003], [40.597473, -73.97913, 791909], [40.59272, -73.97823, 535776], [40.646294, -73.99432, 1212337], [40.640915, -73.9943, 868589], [40.63626, -73.99479, 719878], [40.631435, -73.995476, 403483], [40.626472, -73.99635, 1083870], [40.61959, -73.99886, 1031289], [40.613503, -74.00061, 1268790], [40.607952, -74.00174, 1265912], [40.604557, -73.99817, 1046509], [40.601875, -73.99373, 1601611], [40.597706, -73.98683, 900437], [40.58884, -73.983765, 570569], [40.577423, -73.98123, 3076719], [40.576126, -73.97594, 597066], [40.73285, -73.98612, 1454562], [40.730953, -73.98163, 5402762], [40.717304, -73.95687, 7324227], [40.71406, -73.95027, 3510463], [40.714565, -73.94405, 1950857], [40.711926, -73.94067, 1428619], [40.70774, -73.93985, 1521516], [40.706154, -73.93314, 1577008], [40.706608, -73.92291, 1788301], [40.70381, -73.91843, 2489686], [40.699814, -73.91158, 4435156], [40.695602, -73.90408, 1636716], [40.688763, -73.904045, 928090], [40.68283, -73.90525, 524203], [40.675346, -73.9031, 343232], [40.66937, -73.90198, 507724], [40.66404, -73.90057, 548114], [40.658733, -73.89923, 725990], [40.650574, -73.89948, 551190], [40.646652, -73.90185, 824102], [40.70836, -73.957756, 2612461], [40.70687, -73.95343, 572067], [40.70387, -73.94741, 832697], [40.70026, -73.941124, 1498629], [40.69721, -73.93565, 2176692], [40.69334, -73.92882, 1059955], [40.68963, -73.92227, 1327552], [40.68637, -73.91656, 1111920], [40.68289, -73.91045, 574934], [40.67699, -73.89865, 387390], [40.678024, -73.891685, 505398], [40.679947, -73.884636, 461848], [40.68141, -73.880035, 505601], [40.683193, -73.87379, 776268], [40.68994, -73.87255, 268012], [40.691322, -73.86714, 647208], [40.692436, -73.86001, 696213], [40.69388, -73.85158, 858679], [40.69518, -73.84433, 501615], [40.69742, -73.83634, 421605], [40.700493, -73.82829, 463453], [40.697857, -73.9274, 808180], [40.698666, -73.91971, 824432], [40.702763, -73.90774, 545814], [40.704422, -73.903076, 871852], [40.706184, -73.895874, 1172192], [40.711395, -73.8896, 777368], [40.868073, -73.9199, 1590435], [40.86549, -73.92727, 1224728], [40.85902, -73.93418, 793425], [40.851696, -73.937965, 1890819], [40.84739, -73.939705, 2143061], [40.836014, -73.939896, 788243], [40.830517, -73.94151, 494385], [40.824783, -73.944214, 4323825], [40.817894, -73.94765, 1039131], [40.811108, -73.95235, 5297060], [40.805084, -73.95488, 1386193], [40.800602, -73.95816, 1546620], [40.796093, -73.96146, 934621], [40.79164, -73.9647, 1870488], [40.78587, -73.96892, 2119281], [40.781433, -73.972145, 2843123], [40.775593, -73.97641, 1932224], [40.768295, -73.981735, 14073198], [40.762455, -73.985985, 4203004], [40.75731, -73.981964, 45796626], [40.75229, -73.99339, 14845400], [40.745907, -73.99804, 3928208], [40.740894, -74.00169, 9433101], [40.732338, -74.000496, 8394640], [40.726227, -74.00374, 2540619], [40.720825, -74.005226, 3344634], [40.71411, -74.00858, 10509479], [40.710373, -74.00657, 15329162], [40.699337, -73.99053, 2180354], [40.692337, -73.98594, 6752288], [40.688484, -73.985, 2380972], [40.68611, -73.973946, 1107244], [40.68326, -73.965836, 1367506], [40.68138, -73.95685, 1117033], [40.68044, -73.950424, 3431110], [40.67992, -73.94086, 1288546], [40.679363, -73.93073, 2742519], [40.67882, -73.920784, 1018564], [40.67834, -73.91195, 1009149], [40.679497, -73.90451, 1568592], [40.67454, -73.896545, 472146], [40.67271, -73.89036, 502848], [40.67413, -73.88075, 548697], [40.675377, -73.87211, 1816838], [40.677044, -73.86505, 1058223], [40.67937, -73.85899, 871095], [40.679844, -73.85147, 544533], [40.680428, -73.84386, 1497573], [40.68171, -73.837685, 310699], [40.68433, -73.83216, 464484], [40.68595, -73.8258, 1332023], [40.668236, -73.83406, 149859], [40.672096, -73.83592, 206320], [40.660477, -73.8303, 593692], [40.608383, -73.815926, 56478], [40.588036, -73.813644, 174661], [40.585308, -73.82056, 96421], [40.58321, -73.82756, 60157], [40.580902, -73.835594, 157744], [40.590927, -73.79692, 445156], [40.592373, -73.78852, 351710], [40.59294, -73.77602, 132911], [40.595398, -73.76817, 177201], [40.600067, -73.76135, 319112], [40.603996, -73.7554, 794294], [40.830135, -73.93821, 625840], [40.827995, -73.92565, 5070233], [40.83377, -73.91844, 1483457], [40.839306, -73.9134, 1113745], [40.8459, -73.91013, 858389], [40.85041, -73.90523, 1427213], [40.856094, -73.90074, 858068], [40.861298, -73.89775, 1854762], [40.866978, -73.89351, 1193335], [40.873245, -73.88714, 1207920], [40.87481, -73.87885, 1440655], [40.762863, -73.981636, 3222878], [40.760166, -73.97523, 3844542], [40.757553, -73.969055, 10041744], [40.747845, -73.94383, 4564428], [40.748974, -73.93724, 2783996], [40.75204, -73.92878, 754628], [40.756878, -73.92074, 2657420], [40.756313, -73.91333, 1612997], [40.752884, -73.906006, 1299013], [40.74967, -73.89845, 682224], [40.742455, -73.88202, 2448371], [40.737015, -73.87722, 3621383], [40.733105, -73.86923, 3941776], [40.729847, -73.8616, 2854509], [40.726524, -73.85272, 1516645], [40.72169, -73.84452, 5051017], [40.71833, -73.837326, 628620], [40.71444, -73.83101, 4578892], [40.70918, -73.82057, 997580], [40.70546, -73.81071, 850598], [40.707565, -73.80333, 1407991], [40.71047, -73.7936, 1550895], [40.712646, -73.78381, 3850935], [40.744064, -73.94972, 378867], [40.731354, -73.95445, 2115543], [40.724636, -73.95128, 1994585], [40.706093, -73.95031, 1010642], [40.70038, -73.95023, 634441], [40.69457, -73.94904, 1195883], [40.68963, -73.95352, 1843210], [40.688873, -73.96007, 1222545], [40.688087, -73.96684, 1115311], [40.68712, -73.97537, 1350386], [40.758663, -73.98133, 10074254], [40.742878, -73.99282, 4881545], [40.738228, -73.99621, 9056442], [40.718266, -73.99375, 5040193], [40.7234, -73.98994, 3636842], [40.718613, -73.987434, 6083972], [40.713715, -73.99017, 2882388], [40.701397, -73.98675, 2594644], [40.686146, -73.99086, 2347806], [40.6803, -73.99505, 2293220], [40.67358, -73.99596, 895504], [40.66627, -73.98031, 2426485], [40.660366, -73.97949, 1234131], [40.650784, -73.97578, 1183591], [40.64404, -73.979675, 2004752], [40.63612, -73.97817, 776078], [40.629753, -73.976974, 676399], [40.62532, -73.97613, 360432], [40.62077, -73.975266, 247551], [40.61514, -73.9742, 538523], [40.608944, -73.97302, 480632], [40.603218, -73.97236, 661056], [40.59606, -73.97336, 348790], [40.58962, -73.97425, 478592], [40.581013, -73.97457, 299143], [40.763973, -73.97745, 3063595], [40.76463, -73.96611, 4144678], [40.759144, -73.95326, 1819291], [40.754204, -73.94283, 2255469], [40.702564, -73.81686, 914601], [40.700485, -73.80797, 4908463], [40.70215, -73.80111, 5480066], [40.7688, -73.95843, 5972601], [40.77789, -73.95179, 4981183], [40.784317, -73.94715, 3632699], [40.703087, -74.01299, 5340535], [40.70751, -74.01379, 1469029], [40.711834, -74.01219, 2475877], [40.70682, -74.0091, 3209247], [40.715477, -74.00927, 3362306], [40.71932, -74.00689, 1129085], [40.722855, -74.00628, 1020171], [40.728252, -74.00536, 2445172], [40.73342, -74.00291, 2494812], [40.74104, -73.99787, 1535750], [40.74408, -73.99566, 2794035], [40.747215, -73.99336, 2632254], [40.750374, -73.99106, 13891761], [40.761726, -73.98385, 5079777], [40.77344, -73.98221, 4120561], [40.778454, -73.98197, 7948655], [40.783936, -73.97992, 3233729], [40.788643, -73.97622, 3745802], [40.79392, -73.97232, 7196838], [40.799446, -73.968376, 2623471], [40.803967, -73.96685, 2662737], [40.80772, -73.96411, 2979011], [40.815582, -73.958374, 1808101], [40.822006, -73.953674, 2596411], [40.82655, -73.95036, 2059736], [40.83404, -73.94489, 2246275], [40.840717, -73.93956, 4768980], [40.849506, -73.93359, 2014114], [40.855225, -73.92941, 1554594], [40.86053, -73.92554, 1477326], [40.86462, -73.91882, 1348267], [40.869446, -73.915276, 430466], [40.87456, -73.90983, 1037756], [40.878857, -73.90483, 1842980], [40.884666, -73.90087, 897846], [40.889248, -73.89858, 1403843], [40.70482, -74.01407, 4444543], [40.707558, -74.01186, 2796478], [40.7223, -73.99714, 2584001], [40.725914, -73.99466, 7951876], [40.730053, -73.99107, 3281566], [40.739864, -73.9866, 4897247], [40.74307, -73.98426, 3738556], [40.746082, -73.98208, 4956885], [40.751778, -73.976845, 24057336], [40.768143, -73.96387, 4339088], [40.77362, -73.95988, 5416181], [40.77949, -73.95559, 8932146], [40.78567, -73.95107, 3449213], [40.7906, -73.94748, 2502815], [40.79502, -73.94425, 2066455], [40.79863, -73.94162, 2805735], [40.80414, -73.93759, 4571362], [40.813225, -73.92985, 768544], [40.818375, -73.92735, 2055967], [40.835537, -73.9214, 1858335], [40.840076, -73.91779, 1514027], [40.844433, -73.91469, 991103], [40.84848, -73.9118, 1057768], [40.853455, -73.907684, 1836485], [40.858406, -73.90388, 1192040], [40.862804, -73.90103, 2085841], [40.86776, -73.89717, 1809873], [40.873413, -73.89006, 1113463], [40.87975, -73.88466, 1672408], [40.886036, -73.87875, 1216386], [40.799076, -73.95182, 1498038], [40.802097, -73.94962, 1944556], [40.807755, -73.945496, 2571052], [40.814228, -73.94077, 2286065], [40.82042, -73.93625, 598592], [40.82388, -73.93647, 635468], [40.81611, -73.917755, 3363252], [40.81649, -73.90781, 954405], [40.819584, -73.90177, 1253392], [40.82218, -73.896736, 591272], [40.824074, -73.89307, 1430797], [40.829994, -73.89187, 838392], [40.837288, -73.88773, 1147050], [40.840294, -73.88005, 1108246], [40.841892, -73.87349, 1493851], [40.848827, -73.868454, 468756], [40.857193, -73.867615, 1434664], [40.865463, -73.867355, 901914], [40.871357, -73.867165, 552149], [40.87785, -73.86626, 1151668], [40.883896, -73.86263, 529608], [40.888023, -73.860344, 618222], [40.893192, -73.857475, 850244], [40.89838, -73.85438, 593065], [40.903126, -73.85062, 852621], [40.810474, -73.92614, 1533423], [40.807568, -73.91924, 1104567], [40.805367, -73.91404, 555207], [40.80872, -73.90765, 259849], [40.81212, -73.9041, 929574], [40.816105, -73.89644, 684340], [40.82095, -73.89055, 2008192], [40.826527, -73.886284, 381416], [40.828583, -73.87916, 1287148], [40.82952, -73.87452, 1232178], [40.83151, -73.867615, 789414], [40.833225, -73.86082, 2904948], [40.834255, -73.85122, 1201889], [40.836487, -73.84704, 485089], [40.839893, -73.84295, 1049723], [40.843864, -73.83632, 388516], [40.84681, -73.832565, 745852], [40.852463, -73.82812, 1203098], [40.742626, -73.95358, 3222616], [40.742214, -73.94891, 1074240], [40.750584, -73.9402, 3194101], [40.75288, -73.932755, 637895], [40.756805, -73.92957, 1301333], [40.76182, -73.92551, 2405977], [40.76678, -73.92148, 2670559], [40.77026, -73.91785, 2228913], [40.775036, -73.91203, 3085826], [40.744587, -73.931, 1607874], [40.743782, -73.92402, 2043059], [40.743134, -73.918434, 2715605], [40.74415, -73.91255, 1328179], [40.74563, -73.902985, 3980375], [40.746326, -73.8964, 1286994], [40.74685, -73.891335, 12022536], [40.747658, -73.8837, 3797195], [40.74841, -73.87661, 3799928], [40.749146, -73.86953, 5575901], [40.749866, -73.8627, 4833605], [40.75173, -73.85533, 2756167], [40.754623, -73.84563, 1519003], [40.7596, -73.83003, 12100549], [40.755882, -74.00191, 4525690], [40.697468, -73.99309, 949323], [40.6941, -73.99, 5590725], [40.690544, -73.98506, 1462833], [40.688248, -73.98049, 1828513], [40.68446, -73.97689, 8847256], [40.68083, -73.9751, 809536], [40.675236, -73.97105, 1431370], [40.671986, -73.96438, 943550], [40.67068, -73.95813, 2941611], [40.669846, -73.95046, 759975], [40.6694, -73.94216, 923919], [40.668896, -73.932945, 4739553], [40.66472, -73.92261, 1209839], [40.661453, -73.91633, 929605], [40.662548, -73.90894, 823068], [40.663513, -73.90245, 456981], [40.664635, -73.8949, 801148], [40.665447, -73.8894, 479110], [40.666237, -73.88408, 1002953], [40.667885, -73.95068, 701324], [40.662743, -73.95085, 1145167], [40.65665, -73.9502, 1520740], [40.650845, -73.94958, 1878959], [40.6451, -73.94896, 886566], [40.63997, -73.94841, 1387704], [40.632835, -73.94764, 3468301], [40.854362, -73.8605, 479759], [40.858986, -73.85536, 557567], [40.869526, -73.84638, 928838], [40.878662, -73.83859, 557105], [40.8883, -73.83083, 768803]],\n",
       "                {&quot;blur&quot;: 10, &quot;maxZoom&quot;: 18, &quot;minOpacity&quot;: 0.5, &quot;radius&quot;: 15}\n",
       "            ).addTo(map_d34cee87329d55aa45a4151d9be79961);\n",
       "        \n",
       "&lt;/script&gt;\n",
       "&lt;/html&gt;\" style=\"position:absolute;width:100%;height:100%;left:0;top:0;border:none !important;\" allowfullscreen webkitallowfullscreen mozallowfullscreen></iframe></div></div>"
      ],
      "text/plain": [
       "<folium.folium.Map at 0x199c5d54880>"
      ]
     },
     "execution_count": 58,
     "metadata": {},
     "output_type": "execute_result"
    }
   ],
   "source": [
    "import folium\n",
    "from folium.plugins import HeatMap\n",
    "\n",
    "# Set base map with folium\n",
    "m_2 = folium.Map(location=[40.75, -73.9], tiles='cartodbpositron', zoom_start=11)\n",
    "\n",
    "# Prepare data for heatmap (convert latitude and longitude to a list of points)\n",
    "heat_data = [[point.xy[1][0], point.xy[0][0], ridership] for point, ridership in zip(geo_stations_df.geometry, geo_stations_df.ridership)]\n",
    "\n",
    "# Create the HeatMap\n",
    "HeatMap(\n",
    "    data=heat_data,\n",
    "    radius=15,\n",
    "    blur=10,\n",
    ").add_to(m_2)\n",
    "\n",
    "# Display the map\n",
    "m_2\n"
   ]
  },
  {
   "cell_type": "markdown",
   "metadata": {},
   "source": [
    "We see a high density of traffic in the midtown area which correlates with our most popular stations."
   ]
  },
  {
   "cell_type": "markdown",
   "metadata": {},
   "source": [
    "### Create a dash app to visualize the ridership by station"
   ]
  },
  {
   "cell_type": "code",
   "execution_count": 48,
   "metadata": {},
   "outputs": [
    {
     "data": {
      "text/html": [
       "\n",
       "        <iframe\n",
       "            width=\"100%\"\n",
       "            height=\"650\"\n",
       "            src=\"http://127.0.0.1:8050/\"\n",
       "            frameborder=\"0\"\n",
       "            allowfullscreen\n",
       "            \n",
       "        ></iframe>\n",
       "        "
      ],
      "text/plain": [
       "<IPython.lib.display.IFrame at 0x19995b89400>"
      ]
     },
     "metadata": {},
     "output_type": "display_data"
    }
   ],
   "source": [
    "app = dash.Dash(__name__)\n",
    "\n",
    "app.layout = html.Div([\n",
    "    html.H4(\"Interactive Ridership by Station Map\"),\n",
    "    dcc.Checklist(\n",
    "        id='marker-size-toggle',\n",
    "        options=[\n",
    "            {'label': 'Use scaled markers', 'value': 'scaled_marker_size'}\n",
    "        ],\n",
    "        value=[]\n",
    "    ),\n",
    "    dcc.Graph(id='scatter-plot'),\n",
    "])\n",
    "\n",
    "@app.callback(\n",
    "    Output('scatter-plot', 'figure'),\n",
    "    [Input('marker-size-toggle', 'value')]\n",
    ")\n",
    "def update_marker_size(selected_values):\n",
    "    use_scaled_marker_size = 'scaled_marker_size' in selected_values\n",
    "\n",
    "    hover_data = ['ridership_per_day', 'ridership', 'station_complex']\n",
    "\n",
    "    hover_template = (\n",
    "        \"<b>Station</b>: %{customdata[2]}<br>\"\n",
    "        \"<b>Station Complex ID</b>: %{customdata[3]}<br>\"\n",
    "        \"<b>Ridership (Daily)</b>: %{customdata[0]:,.0f}<br>\"\n",
    "        \"<b>Ridership (Yearly)</b>: %{customdata[1]:,.0f}\"\n",
    "    )\n",
    "\n",
    "    # Create the Plotly figure based on the selected option\n",
    "    if use_scaled_marker_size:\n",
    "        fig = px.scatter_mapbox(\n",
    "            by_station_df,\n",
    "            lat='latitude',\n",
    "            lon='longitude',\n",
    "            color='ridership_bin',\n",
    "            hover_name='station_complex',\n",
    "            custom_data=[\n",
    "                by_station_df['ridership_per_day'],\n",
    "                by_station_df['ridership'],\n",
    "                by_station_df['station_complex'],\n",
    "                by_station_df['station_complex_id']\n",
    "\n",
    "            ],\n",
    "            size='scaled_marker_size',\n",
    "            color_discrete_map=bin_colors\n",
    "        )\n",
    "    else:\n",
    "        fig = px.scatter_mapbox(\n",
    "            by_station_df,\n",
    "            lat='latitude',\n",
    "            lon='longitude',\n",
    "            color='ridership_bin',\n",
    "            hover_name='station_complex',\n",
    "            custom_data=[\n",
    "                by_station_df['ridership_per_day'],\n",
    "                by_station_df['ridership'],\n",
    "                by_station_df['station_complex'],\n",
    "                by_station_df['station_complex_id']\n",
    "            ],\n",
    "            color_discrete_map=bin_colors\n",
    "        )\n",
    "\n",
    "    # Set the Mapbox token and map style\n",
    "    fig.update_layout(\n",
    "        mapbox=dict(\n",
    "            accesstoken=mapbox_token,\n",
    "            style='mapbox://styles/mapbox/dark-v10',\n",
    "            center=dict(lat=40.7128, lon=-74.0060),\n",
    "            zoom=8.7,\n",
    "        ),\n",
    "        hovermode='closest',\n",
    "    )\n",
    "\n",
    "    fig.update_traces(hovertemplate=hover_template)\n",
    "\n",
    "    return fig\n",
    "\n",
    "if __name__ == '__main__':\n",
    "    app.run_server(debug=True)\n"
   ]
  },
  {
   "cell_type": "markdown",
   "metadata": {},
   "source": [
    "Toggle between scaled and standard markers to indicate the clear increase in ridership in midtown Manhattan. Times Square, Herald Square, Grand Central, and Penn Station all located in midtown and we see a large difference in traffic compared to other areas of Manhattan or other boroughs."
   ]
  },
  {
   "cell_type": "markdown",
   "metadata": {},
   "source": [
    "____"
   ]
  },
  {
   "cell_type": "markdown",
   "metadata": {},
   "source": [
    "### 5. Predicting Ridership"
   ]
  },
  {
   "cell_type": "markdown",
   "metadata": {},
   "source": [
    "If we can create a model to predict ridership at any given time, this would be an incredibly useful tool for the MTA to use. This would allow them to better plan for maintenance, staffing, and other resources. This data set is limited to only a few factors that could affect ridership, but it is a good starting point and will indicate if it is possible to create a model to predict ridership."
   ]
  },
  {
   "cell_type": "markdown",
   "metadata": {},
   "source": [
    "I chose to use Random Forest Regression for this task because we needed to choose a model that can handle non-linear data and it is not prone to overfitting."
   ]
  },
  {
   "cell_type": "code",
   "execution_count": 49,
   "metadata": {},
   "outputs": [],
   "source": [
    "# make a new dataframe called rfr_df\n",
    "rfr_df = pd.DataFrame()"
   ]
  },
  {
   "cell_type": "markdown",
   "metadata": {},
   "source": [
    "Prep the new dataframe"
   ]
  },
  {
   "cell_type": "code",
   "execution_count": 50,
   "metadata": {},
   "outputs": [
    {
     "data": {
      "text/html": [
       "<div>\n",
       "<style scoped>\n",
       "    .dataframe tbody tr th:only-of-type {\n",
       "        vertical-align: middle;\n",
       "    }\n",
       "\n",
       "    .dataframe tbody tr th {\n",
       "        vertical-align: top;\n",
       "    }\n",
       "\n",
       "    .dataframe thead th {\n",
       "        text-align: right;\n",
       "    }\n",
       "</style>\n",
       "<table border=\"1\" class=\"dataframe\">\n",
       "  <thead>\n",
       "    <tr style=\"text-align: right;\">\n",
       "      <th></th>\n",
       "      <th>month</th>\n",
       "      <th>day</th>\n",
       "      <th>hour</th>\n",
       "      <th>ridership</th>\n",
       "    </tr>\n",
       "  </thead>\n",
       "  <tbody>\n",
       "    <tr>\n",
       "      <th>0</th>\n",
       "      <td>1</td>\n",
       "      <td>1</td>\n",
       "      <td>0</td>\n",
       "      <td>76113</td>\n",
       "    </tr>\n",
       "    <tr>\n",
       "      <th>1</th>\n",
       "      <td>1</td>\n",
       "      <td>1</td>\n",
       "      <td>1</td>\n",
       "      <td>70846</td>\n",
       "    </tr>\n",
       "    <tr>\n",
       "      <th>2</th>\n",
       "      <td>1</td>\n",
       "      <td>1</td>\n",
       "      <td>2</td>\n",
       "      <td>43543</td>\n",
       "    </tr>\n",
       "    <tr>\n",
       "      <th>3</th>\n",
       "      <td>1</td>\n",
       "      <td>1</td>\n",
       "      <td>3</td>\n",
       "      <td>23324</td>\n",
       "    </tr>\n",
       "    <tr>\n",
       "      <th>4</th>\n",
       "      <td>1</td>\n",
       "      <td>1</td>\n",
       "      <td>4</td>\n",
       "      <td>14958</td>\n",
       "    </tr>\n",
       "  </tbody>\n",
       "</table>\n",
       "</div>"
      ],
      "text/plain": [
       "   month  day  hour  ridership\n",
       "0      1    1     0      76113\n",
       "1      1    1     1      70846\n",
       "2      1    1     2      43543\n",
       "3      1    1     3      23324\n",
       "4      1    1     4      14958"
      ]
     },
     "execution_count": 50,
     "metadata": {},
     "output_type": "execute_result"
    }
   ],
   "source": [
    "rfr_df['month'] = original_df['transit_timestamp'].dt.month\n",
    "rfr_df['day'] = original_df['transit_timestamp'].dt.day\n",
    "rfr_df['hour'] = original_df['transit_timestamp'].dt.hour\n",
    "rfr_df['ridership'] = original_df['ridership']\n",
    "\n",
    "rfr_df = rfr_df.groupby(['month', 'day', 'hour'])['ridership'].sum().reset_index()\n",
    "\n",
    "rfr_df.head()\n"
   ]
  },
  {
   "cell_type": "code",
   "execution_count": 51,
   "metadata": {},
   "outputs": [],
   "source": [
    "X = rfr_df[['month', 'day', 'hour']]\n",
    "y = rfr_df['ridership']\n",
    "\n",
    "# Split the data into 80% training and 20% testing\n",
    "X_train, X_test, y_train, y_test = train_test_split(X, y, test_size=0.2, random_state=42)"
   ]
  },
  {
   "cell_type": "code",
   "execution_count": 52,
   "metadata": {},
   "outputs": [
    {
     "name": "stdout",
     "output_type": "stream",
     "text": [
      "Mean Absolute Error: 31931.12 riders.\n",
      "R-squared (R2): 0.88\n",
      "Accuracy: 75.47 %.\n"
     ]
    },
    {
     "data": {
      "image/png": "[encoded data removed]",
      "text/plain": [
       "<Figure size 1000x600 with 1 Axes>"
      ]
     },
     "metadata": {},
     "output_type": "display_data"
    }
   ],
   "source": [
    "# Split the data into features and labels\n",
    "labels = np.array(rfr_df['ridership'])\n",
    "features = rfr_df.drop('ridership', axis=1)\n",
    "feature_list = list(features.columns)\n",
    "features = np.array(features)\n",
    "\n",
    "# Split the data into training and testing sets\n",
    "train_features, test_features, train_labels, test_labels = train_test_split(\n",
    "    features, labels, test_size=0.25, random_state=38\n",
    ")\n",
    "\n",
    "# Instantiate model with decision trees\n",
    "rf = RandomForestRegressor(n_estimators=400, random_state=38)\n",
    "\n",
    "# Train the model on training data\n",
    "rf.fit(train_features, train_labels)\n",
    "\n",
    "# Make predictions on the test set\n",
    "predictions = rf.predict(test_features)\n",
    "\n",
    "# Calculate the absolute errors\n",
    "errors = abs(predictions - test_labels)\n",
    "\n",
    "# Print out the mean absolute error (MAE)\n",
    "mae = mean_absolute_error(test_labels, predictions)\n",
    "print('Mean Absolute Error:', round(mae, 2), 'riders.')\n",
    "\n",
    "# Calculate the R-squared (R2)\n",
    "r2 = r2_score(test_labels, predictions)\n",
    "print('R-squared (R2):', round(r2, 2))\n",
    "\n",
    "# Calculate and display Mean Absolute Percentage Error (MAPE) and Accuracy\n",
    "mape = 100 * (errors / test_labels)\n",
    "accuracy = 100 - np.mean(mape)\n",
    "print('Accuracy:', round(accuracy, 2), '%.')\n",
    "\n",
    "# Create a scatter plot to visualize the predictions vs. actual values\n",
    "plt.figure(figsize=(10, 6))\n",
    "plt.scatter(test_labels, predictions, alpha=0.7)\n",
    "plt.plot([min(test_labels), max(test_labels)], [min(test_labels), max(test_labels)], 'r--')\n",
    "\n",
    "plt.xlabel('Actual Ridership')\n",
    "plt.ylabel('Predicted Ridership')\n",
    "plt.title('Random Forest Regressor: Actual vs. Predicted Ridership')\n",
    "plt.show()\n"
   ]
  },
  {
   "cell_type": "markdown",
   "metadata": {},
   "source": [
    "We can see we got an impressive R2 score of 0.88. This indicates that our model has potential to fit the data. This was only based on three factors. Unfortunately, the model has a mean absolute error of around 32 thousand. However if more factors were added to the model, it could potentially be improved, such as weather, unique stations, holidays, etc."
   ]
  },
  {
   "cell_type": "markdown",
   "metadata": {},
   "source": [
    "What are the most important features in our model?"
   ]
  },
  {
   "cell_type": "code",
   "execution_count": 53,
   "metadata": {},
   "outputs": [
    {
     "name": "stdout",
     "output_type": "stream",
     "text": [
      "month: 0.25222014283065824\n",
      "day: 0.13287063052608278\n",
      "hour: 0.6149092266432591\n"
     ]
    },
    {
     "data": {
      "image/png": "[encoded data removed]",
      "text/plain": [
       "<Figure size 1000x600 with 1 Axes>"
      ]
     },
     "metadata": {},
     "output_type": "display_data"
    }
   ],
   "source": [
    "# Train the model on training data\n",
    "rf.fit(train_features, train_labels)\n",
    "\n",
    "# Get feature importances\n",
    "feature_importances = rf.feature_importances_\n",
    "\n",
    "# Associate feature importances with feature names\n",
    "feature_importance_list = list(zip(feature_list, feature_importances))\n",
    "\n",
    "# Print the top N most important features and their importances\n",
    "for feature, importance in feature_importance_list:\n",
    "    print(f\"{feature}: {importance}\")\n",
    "\n",
    "# Create a bar plot to visualize feature importances\n",
    "plt.figure(figsize=(10, 6))\n",
    "plt.bar(range(len(feature_importances)), feature_importances)\n",
    "plt.xticks(range(len(feature_importances)), [feature[0] for feature in feature_importance_list], rotation='vertical')\n",
    "plt.xlabel('Features')\n",
    "plt.ylabel('Importance')\n",
    "plt.title('Feature Importances')\n",
    "plt.show()\n"
   ]
  },
  {
   "cell_type": "markdown",
   "metadata": {},
   "source": [
    "The hour of day is a major indicator on the amount of ridership."
   ]
  },
  {
   "cell_type": "markdown",
   "metadata": {},
   "source": [
    "#### Function for predicting ridership\n",
    "\n",
    "This function uses the model we created and predicts the ridership based on the inputted parameters which are month day and hour."
   ]
  },
  {
   "cell_type": "code",
   "execution_count": 59,
   "metadata": {},
   "outputs": [],
   "source": [
    "def predict_and_show_ridership(month, day, hour):\n",
    "    input_data = np.array([[month, day, hour]])\n",
    "    predicted_ridership = rf.predict(input_data)\n",
    "    actual_ridership = rfr_df[(rfr_df['month'] == month) & (rfr_df['day'] == day) & (rfr_df['hour'] == hour)]['ridership'].values[0]\n",
    "    \n",
    "    print(f\"Input: Month={month}, Day={day}, Hour={hour}\")\n",
    "    print(f\"Predicted Ridership: {round(predicted_ridership[0], 2)}\")\n",
    "    print(f\"Actual Ridership: {actual_ridership}\")"
   ]
  },
  {
   "cell_type": "code",
   "execution_count": 63,
   "metadata": {},
   "outputs": [
    {
     "name": "stdout",
     "output_type": "stream",
     "text": [
      "Input: Month=5, Day=5, Hour=12\n",
      "Predicted Ridership: 286930.37\n",
      "Actual Ridership: 299513\n"
     ]
    }
   ],
   "source": [
    "# Test the function with a specific input\n",
    "predict_and_show_ridership(month=5, day=5, hour=12)"
   ]
  },
  {
   "cell_type": "code",
   "execution_count": 64,
   "metadata": {},
   "outputs": [
    {
     "name": "stdout",
     "output_type": "stream",
     "text": [
      "Input: Month=3, Day=27, Hour=2\n",
      "Predicted Ridership: 15467.66\n",
      "Actual Ridership: 15270\n"
     ]
    }
   ],
   "source": [
    "predict_and_show_ridership(month=3, day=27, hour=2)"
   ]
  },
  {
   "cell_type": "markdown",
   "metadata": {},
   "source": [
    "___"
   ]
  },
  {
   "cell_type": "markdown",
   "metadata": {},
   "source": [
    "### 6. Conclusion"
   ]
  },
  {
   "cell_type": "markdown",
   "metadata": {},
   "source": [
    "### This analysis has successfully shown that many of the potential goals of the analysis can be answered using data"
   ]
  },
  {
   "cell_type": "markdown",
   "metadata": {},
   "source": [
    "#### -- Schedule maintenance and improve crowd management\n",
    "\n",
    "This analysis shows we can easily determine the trends for which stations, time of day and day of the week have the most riders. This information can be used to schedule maintenance and improve crowd management. We did this through bar charts, strip plots, and treemaps."
   ]
  },
  {
   "cell_type": "markdown",
   "metadata": {},
   "source": [
    "#### -- Ridership by location\n",
    "\n",
    "It is also clear that by using geovisualization and exploratory data analysis techniques, we can see which boroguhs and stations have the most riders. The heatmap and dash app are great tools to visualize this data."
   ]
  },
  {
   "cell_type": "markdown",
   "metadata": {},
   "source": [
    "#### -- Predicting Ridership\n",
    "\n",
    "We were able to predict ridership with a **high degree of accuracy**. This shows that there is potential to build a model to predict ridership. I believe that given the right data, this model could be improved and reliably predict how many riders will be at a given station at a given time."
   ]
  }
 ],
 "metadata": {
  "kernelspec": {
   "display_name": "Python 3",
   "language": "python",
   "name": "python3"
  },
  "language_info": {
   "codemirror_mode": {
    "name": "ipython",
    "version": 3
   },
   "file_extension": ".py",
   "mimetype": "text/x-python",
   "name": "python",
   "nbconvert_exporter": "python",
   "pygments_lexer": "ipython3",
   "version": "3.9.13"
  },
  "orig_nbformat": 4
 },
 "nbformat": 4,
 "nbformat_minor": 2
}
